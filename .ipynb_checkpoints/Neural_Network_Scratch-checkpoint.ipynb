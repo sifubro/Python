{
 "cells": [
  {
   "cell_type": "code",
   "execution_count": 2,
   "id": "70d298a2",
   "metadata": {},
   "outputs": [],
   "source": [
    "import numpy as np\n",
    "import glob\n",
    "from PIL import Image\n"
   ]
  },
  {
   "cell_type": "markdown",
   "id": "3ab27014",
   "metadata": {},
   "source": [
    "### Create data generator that yields files efficiently"
   ]
  },
  {
   "cell_type": "code",
   "execution_count": null,
   "id": "6a292115",
   "metadata": {},
   "outputs": [],
   "source": [
    "class DataGenerator:\n",
    "    def __init__(self, directory, batch_size=16, max_epochs=100, shuffle=True):\n",
    "        self.directory = directory\n",
    "        self.batch_size = batch_size\n",
    "        self.max_epochs = max_epochs\n",
    "        self.shuffle = shuffle\n",
    "        self.current_epoch = 0\n",
    "        #self.file_paths = [os.path.join(self.directory, filename) for filename in os.listdir(self.directory)]\n",
    "        self.file_paths = glob.glob(\"C://Users/SiFuBrO/Desktop/SCRIPTS!!!!!/GitHub/Python/dataset\")\n",
    "        \n",
    "    def get_shape(self):\n",
    "        # we assume that all images in the folder have the same shape\n",
    "        self.shape = Image.open(self.file_paths[0])\n",
    "\n",
    "    def __iter__(self):\n",
    "        return self\n",
    "    \n",
    "    def __len__(self):\n",
    "        return len(self.file_paths)\n",
    "\n",
    "    def __next__(self):\n",
    "        if self.current_epoch >= self.max_epochs:\n",
    "            raise StopIteration\n",
    "\n",
    "        if self.shuffle:\n",
    "            np.random.shuffle(self.file_paths)\n",
    "\n",
    "        for i in range(0, len(self.file_paths), self.batch_size):\n",
    "            batch_file_paths = self.file_paths[i:i + self.batch_size]\n",
    "            batch_images = []\n",
    "\n",
    "            for file_path in batch_file_paths:\n",
    "                img = Image.open(file_path)\n",
    "                img_array = np.array(img)\n",
    "                batch_images.append(img_array)\n",
    "\n",
    "            if not batch_images:\n",
    "                raise StopIteration\n",
    "\n",
    "            return np.array(batch_images)\n",
    "\n",
    "        self.current_epoch += 1\n"
   ]
  },
  {
   "cell_type": "code",
   "execution_count": null,
   "id": "7a460255",
   "metadata": {},
   "outputs": [],
   "source": []
  },
  {
   "cell_type": "code",
   "execution_count": null,
   "id": "89d8d667",
   "metadata": {},
   "outputs": [],
   "source": [
    "## Next things todo:"
   ]
  },
  {
   "cell_type": "code",
   "execution_count": null,
   "id": "7003f30d",
   "metadata": {},
   "outputs": [],
   "source": []
  },
  {
   "cell_type": "code",
   "execution_count": null,
   "id": "1c82d0ea",
   "metadata": {},
   "outputs": [],
   "source": []
  },
  {
   "cell_type": "code",
   "execution_count": null,
   "id": "a401b87b",
   "metadata": {},
   "outputs": [],
   "source": []
  },
  {
   "cell_type": "code",
   "execution_count": null,
   "id": "72b1383e",
   "metadata": {},
   "outputs": [],
   "source": []
  },
  {
   "cell_type": "code",
   "execution_count": null,
   "id": "5a6e4807",
   "metadata": {},
   "outputs": [],
   "source": []
  },
  {
   "cell_type": "code",
   "execution_count": null,
   "id": "2ebf99a4",
   "metadata": {},
   "outputs": [],
   "source": []
  },
  {
   "cell_type": "code",
   "execution_count": null,
   "id": "487deae9",
   "metadata": {},
   "outputs": [],
   "source": []
  },
  {
   "cell_type": "code",
   "execution_count": null,
   "id": "35754047",
   "metadata": {},
   "outputs": [],
   "source": []
  },
  {
   "cell_type": "code",
   "execution_count": null,
   "id": "a7ee77b5",
   "metadata": {},
   "outputs": [],
   "source": []
  },
  {
   "cell_type": "code",
   "execution_count": null,
   "id": "0fb5a1aa",
   "metadata": {},
   "outputs": [],
   "source": []
  },
  {
   "cell_type": "code",
   "execution_count": null,
   "id": "08385a3f",
   "metadata": {},
   "outputs": [],
   "source": []
  },
  {
   "cell_type": "code",
   "execution_count": null,
   "id": "fabb5447",
   "metadata": {},
   "outputs": [],
   "source": []
  },
  {
   "cell_type": "code",
   "execution_count": null,
   "id": "9d185c41",
   "metadata": {},
   "outputs": [],
   "source": []
  },
  {
   "cell_type": "code",
   "execution_count": null,
   "id": "e2e15be1",
   "metadata": {},
   "outputs": [],
   "source": []
  }
 ],
 "metadata": {
  "kernelspec": {
   "display_name": "Python 3 (ipykernel)",
   "language": "python",
   "name": "python3"
  },
  "language_info": {
   "codemirror_mode": {
    "name": "ipython",
    "version": 3
   },
   "file_extension": ".py",
   "mimetype": "text/x-python",
   "name": "python",
   "nbconvert_exporter": "python",
   "pygments_lexer": "ipython3",
   "version": "3.8.8"
  }
 },
 "nbformat": 4,
 "nbformat_minor": 5
}
