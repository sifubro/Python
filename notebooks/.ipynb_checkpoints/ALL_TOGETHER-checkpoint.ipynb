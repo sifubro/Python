{
 "cells": [
  {
   "cell_type": "code",
   "execution_count": 88,
   "id": "c95b2f95",
   "metadata": {},
   "outputs": [],
   "source": [
    "from functools import wraps\n",
    "# inner.__name__ = func.__name__\n",
    "# inner.__doc__ = func.__doc\n",
    "# and also handle signature!\n",
    "# \n",
    "# Do instead \n",
    "# inner = wraps(fn)(inner)\n",
    "# return inner\n",
    "# Hence @wraps(fn) before inner"
   ]
  },
  {
   "cell_type": "code",
   "execution_count": 89,
   "id": "c5439c68",
   "metadata": {},
   "outputs": [],
   "source": [
    "# decorator to count number of attacks\n",
    "def count_attacks(func):\n",
    "    \n",
    "    cnt = 0\n",
    "    \n",
    "    @wraps(func)   #equivalent to:  inner = wraps(fn)(inner)\n",
    "    def inner(*args, **kwargs):\n",
    "        nonlocal cnt\n",
    "        cnt+=1\n",
    "        print(f\"Person attacked {cnt} times in total with {func.__name__}\")\n",
    "        return func(*args, **kwargs)\n",
    "    \n",
    "    return inner"
   ]
  },
  {
   "cell_type": "code",
   "execution_count": 90,
   "id": "2953ca29",
   "metadata": {},
   "outputs": [],
   "source": [
    "# decorator to count number of defences\n",
    "def count_defences(func):\n",
    "    \n",
    "    cnt = 0\n",
    "    \n",
    "    @wraps(func)  #equivalent to:  inner = wraps(fn)(inner)\n",
    "    def inner(*args, **kwargs):\n",
    "        nonlocal cnt\n",
    "        cnt+=1\n",
    "        print(f\"Person defended {cnt} times in total with {func.__name__}\")\n",
    "        return func(*args, **kwargs)\n",
    "    \n",
    "    return inner"
   ]
  },
  {
   "cell_type": "code",
   "execution_count": 102,
   "id": "26d28e3e",
   "metadata": {},
   "outputs": [],
   "source": [
    "class Person:\n",
    "    \n",
    "    def __init__(self, name: str =\"\", attack: float =0, defence: float= 0):\n",
    "        \n",
    "        self._name = name\n",
    "        self.attack = attack\n",
    "        self._defence = defence\n",
    "        \n",
    "    def talk(self, text=\"\"):\n",
    "        print(f\"Person `{self._name}` says {text}\")\n",
    "\n",
    "    @property\n",
    "    def name(self):\n",
    "        print(\"Inside name property\")\n",
    "        return self._name\n",
    "    \n",
    "    @property\n",
    "    def attack(self):\n",
    "        return self._attack\n",
    "    \n",
    "    @attack.setter\n",
    "    def attack(self, att_val):\n",
    "        print(\"Inside setter\")\n",
    "        if type(att_val) not in  [int,float]:\n",
    "            raise ValueError(f\"Person should have attack float but {type(att_val)} was input\")\n",
    "        \n",
    "        if att_val >= 0 and att_val <= 100:\n",
    "            self._attack = att_val\n",
    "        else:\n",
    "            raise ValueError(f\"Person should have attack between [0,100] but {att_val} was input\")\n",
    "    \n",
    "    @attack.getter\n",
    "    def attack(self):\n",
    "        print(\"Inside getter\")\n",
    "        return self._attack\n",
    "    \n",
    "    \n",
    "    @property\n",
    "    def defence(self):\n",
    "        return self._defence\n",
    "    \n",
    "    # TODO parametrized decorators so I select either attack or defence\n",
    "    @count_attacks\n",
    "    def do_attack(self):\n",
    "        print(f\"Person doing attack {self.attack}!\")\n",
    "        return self.attack\n",
    "    \n",
    "    @count_defences\n",
    "    def do_defence(self):\n",
    "        print(f\"Person defenced {self.defence} damage!\")\n",
    "        return self.defence\n",
    "    \n",
    "    \n",
    "    def __str__(self):\n",
    "        return f\"Hero(name={hero.name}, attack={hero.attack}, defence={hero.defence})\"\n",
    "    \n",
    "        \n",
    "class Hero(Person):\n",
    "    \n",
    "    def __init__(self, *args, **kwargs):\n",
    "        super().__init__(*args, **kwargs)\n",
    "        "
   ]
  },
  {
   "cell_type": "code",
   "execution_count": 103,
   "id": "ff856e54",
   "metadata": {},
   "outputs": [
    {
     "name": "stdout",
     "output_type": "stream",
     "text": [
      "Inside setter\n"
     ]
    },
    {
     "data": {
      "text/plain": [
       "<__main__.Hero at 0x1bcab02ec40>"
      ]
     },
     "execution_count": 103,
     "metadata": {},
     "output_type": "execute_result"
    }
   ],
   "source": [
    "hero = Hero(name=\"Leonidas\", attack=98, defence=99)\n",
    "hero"
   ]
  },
  {
   "cell_type": "code",
   "execution_count": 104,
   "id": "823d67b1",
   "metadata": {},
   "outputs": [
    {
     "name": "stdout",
     "output_type": "stream",
     "text": [
      "Inside name property\n",
      "Inside getter\n"
     ]
    },
    {
     "data": {
      "text/plain": [
       "('Leonidas', 98, 99)"
      ]
     },
     "execution_count": 104,
     "metadata": {},
     "output_type": "execute_result"
    }
   ],
   "source": [
    "hero.name, hero.attack, hero.defence"
   ]
  },
  {
   "cell_type": "code",
   "execution_count": 105,
   "id": "12b5c504",
   "metadata": {},
   "outputs": [
    {
     "name": "stdout",
     "output_type": "stream",
     "text": [
      "Inside name property\n",
      "Inside getter\n",
      "Hero(name=Leonidas, attack=98, defence=99)\n"
     ]
    }
   ],
   "source": [
    "print(hero)"
   ]
  },
  {
   "cell_type": "code",
   "execution_count": 106,
   "id": "1ece082e",
   "metadata": {},
   "outputs": [
    {
     "name": "stdout",
     "output_type": "stream",
     "text": [
      "Inside getter\n"
     ]
    },
    {
     "data": {
      "text/plain": [
       "98"
      ]
     },
     "execution_count": 106,
     "metadata": {},
     "output_type": "execute_result"
    }
   ],
   "source": [
    "hero.attack"
   ]
  },
  {
   "cell_type": "code",
   "execution_count": 107,
   "id": "afb53628",
   "metadata": {},
   "outputs": [
    {
     "name": "stdout",
     "output_type": "stream",
     "text": [
      "Person attacked 1 times in total with do_attack\n",
      "Inside getter\n",
      "Person doing attack 98!\n",
      "Inside getter\n"
     ]
    },
    {
     "data": {
      "text/plain": [
       "98"
      ]
     },
     "execution_count": 107,
     "metadata": {},
     "output_type": "execute_result"
    }
   ],
   "source": [
    "hero.do_attack()"
   ]
  },
  {
   "cell_type": "code",
   "execution_count": 108,
   "id": "9e51b208",
   "metadata": {},
   "outputs": [
    {
     "name": "stdout",
     "output_type": "stream",
     "text": [
      "Person attacked 2 times in total with do_attack\n",
      "Inside getter\n",
      "Person doing attack 98!\n",
      "Inside getter\n"
     ]
    },
    {
     "data": {
      "text/plain": [
       "98"
      ]
     },
     "execution_count": 108,
     "metadata": {},
     "output_type": "execute_result"
    }
   ],
   "source": [
    "hero.do_attack()"
   ]
  },
  {
   "cell_type": "code",
   "execution_count": 109,
   "id": "05ab5097",
   "metadata": {},
   "outputs": [
    {
     "name": "stdout",
     "output_type": "stream",
     "text": [
      "Person attacked 3 times in total with do_attack\n",
      "Inside getter\n",
      "Person doing attack 98!\n",
      "Inside getter\n"
     ]
    },
    {
     "data": {
      "text/plain": [
       "98"
      ]
     },
     "execution_count": 109,
     "metadata": {},
     "output_type": "execute_result"
    }
   ],
   "source": [
    "hero.do_attack()"
   ]
  },
  {
   "cell_type": "code",
   "execution_count": 110,
   "id": "6d33c573",
   "metadata": {},
   "outputs": [
    {
     "name": "stdout",
     "output_type": "stream",
     "text": [
      "Person defended 1 times in total with do_defence\n",
      "Person defenced 99 damage!\n"
     ]
    },
    {
     "data": {
      "text/plain": [
       "99"
      ]
     },
     "execution_count": 110,
     "metadata": {},
     "output_type": "execute_result"
    }
   ],
   "source": [
    "hero.do_defence()"
   ]
  },
  {
   "cell_type": "code",
   "execution_count": 111,
   "id": "078a216d",
   "metadata": {},
   "outputs": [
    {
     "name": "stdout",
     "output_type": "stream",
     "text": [
      "Person defended 2 times in total with do_defence\n",
      "Person defenced 99 damage!\n"
     ]
    },
    {
     "data": {
      "text/plain": [
       "99"
      ]
     },
     "execution_count": 111,
     "metadata": {},
     "output_type": "execute_result"
    }
   ],
   "source": [
    "hero.do_defence()"
   ]
  },
  {
   "cell_type": "code",
   "execution_count": 112,
   "id": "289fa483",
   "metadata": {},
   "outputs": [
    {
     "name": "stdout",
     "output_type": "stream",
     "text": [
      "Person defended 3 times in total with do_defence\n",
      "Person defenced 99 damage!\n"
     ]
    },
    {
     "data": {
      "text/plain": [
       "99"
      ]
     },
     "execution_count": 112,
     "metadata": {},
     "output_type": "execute_result"
    }
   ],
   "source": [
    "hero.do_defence()"
   ]
  },
  {
   "cell_type": "code",
   "execution_count": 116,
   "id": "845de0d1",
   "metadata": {},
   "outputs": [
    {
     "data": {
      "text/plain": [
       "<Signature (*args, **kwargs)>"
      ]
     },
     "execution_count": 116,
     "metadata": {},
     "output_type": "execute_result"
    }
   ],
   "source": [
    "import inspect\n",
    "\n",
    "inspect.signature(Hero)"
   ]
  },
  {
   "cell_type": "code",
   "execution_count": 117,
   "id": "71e00309",
   "metadata": {},
   "outputs": [
    {
     "data": {
      "text/plain": [
       "<Signature (name: str = '', attack: float = 0, defence: float = 0)>"
      ]
     },
     "execution_count": 117,
     "metadata": {},
     "output_type": "execute_result"
    }
   ],
   "source": [
    "inspect.signature(Person)"
   ]
  },
  {
   "cell_type": "code",
   "execution_count": null,
   "id": "1400ee04",
   "metadata": {},
   "outputs": [],
   "source": []
  },
  {
   "cell_type": "code",
   "execution_count": null,
   "id": "9c28d3f0",
   "metadata": {},
   "outputs": [],
   "source": []
  },
  {
   "cell_type": "markdown",
   "id": "e72c5bf4",
   "metadata": {},
   "source": [
    "## Generators"
   ]
  },
  {
   "cell_type": "code",
   "execution_count": null,
   "id": "57f7f7c4",
   "metadata": {},
   "outputs": [],
   "source": []
  },
  {
   "cell_type": "code",
   "execution_count": null,
   "id": "e32ca8ab",
   "metadata": {},
   "outputs": [],
   "source": []
  },
  {
   "cell_type": "code",
   "execution_count": null,
   "id": "4fb3f632",
   "metadata": {},
   "outputs": [],
   "source": []
  },
  {
   "cell_type": "code",
   "execution_count": null,
   "id": "aebc4d95",
   "metadata": {},
   "outputs": [],
   "source": []
  },
  {
   "cell_type": "code",
   "execution_count": null,
   "id": "fcc23342",
   "metadata": {},
   "outputs": [],
   "source": []
  },
  {
   "cell_type": "code",
   "execution_count": null,
   "id": "231b5d3b",
   "metadata": {},
   "outputs": [],
   "source": []
  },
  {
   "cell_type": "code",
   "execution_count": null,
   "id": "560ba130",
   "metadata": {},
   "outputs": [],
   "source": []
  },
  {
   "cell_type": "code",
   "execution_count": null,
   "id": "b95e535c",
   "metadata": {},
   "outputs": [],
   "source": []
  },
  {
   "cell_type": "code",
   "execution_count": null,
   "id": "1d059fd6",
   "metadata": {},
   "outputs": [],
   "source": []
  },
  {
   "cell_type": "markdown",
   "id": "928b8f3a",
   "metadata": {},
   "source": [
    "## decorator for caching (`memoize`)"
   ]
  },
  {
   "cell_type": "code",
   "execution_count": 147,
   "id": "861545a1",
   "metadata": {},
   "outputs": [],
   "source": [
    "def memoize(func):\n",
    "    cache = dict()\n",
    "    \n",
    "    def inner(n):\n",
    "        if n not in cache:\n",
    "            cache[n] = func(n)\n",
    "        return cache[n]\n",
    "    return inner\n",
    "\n",
    "@memoize\n",
    "def fib(n):\n",
    "    print(f\"Compute {n}-th fibonacci number\")\n",
    "    return 1 if n<3 else fib(n-1) + fib(n-2)"
   ]
  },
  {
   "cell_type": "code",
   "execution_count": 150,
   "id": "43a129ff",
   "metadata": {},
   "outputs": [],
   "source": [
    "# MORE GENERAL\n",
    "def memoize(func):\n",
    "    cache = dict()\n",
    "    \n",
    "    def inner(*args):\n",
    "        if args not in cache:\n",
    "            cache[args] = func(*args)\n",
    "        return cache[args]\n",
    "    return inner\n",
    "\n",
    "@memoize\n",
    "def fib(n):\n",
    "    print(f\"Compute {n}-th fibonacci number\")\n",
    "    return 1 if n<3 else fib(n-1) + fib(n-2)"
   ]
  },
  {
   "cell_type": "code",
   "execution_count": null,
   "id": "d1fc23ae",
   "metadata": {},
   "outputs": [],
   "source": [
    "## MORE EFFICIENT\n",
    "## JUST USE THE LATEST 20 ITEMS for e.g.g in the cache"
   ]
  },
  {
   "cell_type": "code",
   "execution_count": 151,
   "id": "8ee6fa81",
   "metadata": {},
   "outputs": [
    {
     "name": "stdout",
     "output_type": "stream",
     "text": [
      "Compute 10-th fibonacci number\n",
      "Compute 9-th fibonacci number\n",
      "Compute 8-th fibonacci number\n",
      "Compute 7-th fibonacci number\n",
      "Compute 6-th fibonacci number\n",
      "Compute 5-th fibonacci number\n",
      "Compute 4-th fibonacci number\n",
      "Compute 3-th fibonacci number\n",
      "Compute 2-th fibonacci number\n",
      "Compute 1-th fibonacci number\n"
     ]
    },
    {
     "data": {
      "text/plain": [
       "55"
      ]
     },
     "execution_count": 151,
     "metadata": {},
     "output_type": "execute_result"
    }
   ],
   "source": [
    "fib(10)"
   ]
  },
  {
   "cell_type": "code",
   "execution_count": 152,
   "id": "90c38f00",
   "metadata": {},
   "outputs": [
    {
     "name": "stdout",
     "output_type": "stream",
     "text": [
      "Compute 13-th fibonacci number\n",
      "Compute 12-th fibonacci number\n",
      "Compute 11-th fibonacci number\n"
     ]
    },
    {
     "data": {
      "text/plain": [
       "233"
      ]
     },
     "execution_count": 152,
     "metadata": {},
     "output_type": "execute_result"
    }
   ],
   "source": [
    "fib(13)"
   ]
  },
  {
   "cell_type": "code",
   "execution_count": 154,
   "id": "ee1394fa",
   "metadata": {},
   "outputs": [
    {
     "name": "stdout",
     "output_type": "stream",
     "text": [
      "Compute 10-th fibonacci number\n",
      "Compute 9-th fibonacci number\n",
      "Compute 8-th fibonacci number\n",
      "Compute 7-th fibonacci number\n",
      "Compute 6-th fibonacci number\n",
      "Compute 5-th fibonacci number\n",
      "Compute 4-th fibonacci number\n",
      "Compute 3-th fibonacci number\n",
      "Compute 2-th fibonacci number\n",
      "Compute 1-th fibonacci number\n"
     ]
    },
    {
     "data": {
      "text/plain": [
       "55"
      ]
     },
     "execution_count": 154,
     "metadata": {},
     "output_type": "execute_result"
    }
   ],
   "source": [
    "from functools import lru_cache #least recently used cache (128 items in the cache by default)\n",
    "\n",
    "@lru_cache()  #parametrised decorator\n",
    "def fib(n):\n",
    "    print(f\"Compute {n}-th fibonacci number\")\n",
    "    return 1 if n<3 else fib(n-1) + fib(n-2)\n",
    "\n",
    "fib(10)"
   ]
  },
  {
   "cell_type": "code",
   "execution_count": 155,
   "id": "fba27c11",
   "metadata": {},
   "outputs": [
    {
     "name": "stdout",
     "output_type": "stream",
     "text": [
      "Compute 13-th fibonacci number\n",
      "Compute 12-th fibonacci number\n",
      "Compute 11-th fibonacci number\n"
     ]
    },
    {
     "data": {
      "text/plain": [
       "233"
      ]
     },
     "execution_count": 155,
     "metadata": {},
     "output_type": "execute_result"
    }
   ],
   "source": [
    "fib(13)"
   ]
  },
  {
   "cell_type": "code",
   "execution_count": 156,
   "id": "123bac4c",
   "metadata": {},
   "outputs": [
    {
     "name": "stdout",
     "output_type": "stream",
     "text": [
      "Compute 10-th fibonacci number\n",
      "Compute 9-th fibonacci number\n",
      "Compute 8-th fibonacci number\n",
      "Compute 7-th fibonacci number\n",
      "Compute 6-th fibonacci number\n",
      "Compute 5-th fibonacci number\n",
      "Compute 4-th fibonacci number\n",
      "Compute 3-th fibonacci number\n",
      "Compute 2-th fibonacci number\n",
      "Compute 1-th fibonacci number\n"
     ]
    },
    {
     "data": {
      "text/plain": [
       "55"
      ]
     },
     "execution_count": 156,
     "metadata": {},
     "output_type": "execute_result"
    }
   ],
   "source": [
    "@lru_cache(maxsize=8)  #parametrised decorator cache size equal to 8\n",
    "def fib(n):\n",
    "    print(f\"Compute {n}-th fibonacci number\")\n",
    "    return 1 if n<3 else fib(n-1) + fib(n-2)\n",
    "\n",
    "fib(10)"
   ]
  },
  {
   "cell_type": "code",
   "execution_count": 157,
   "id": "e3182042",
   "metadata": {},
   "outputs": [
    {
     "name": "stdout",
     "output_type": "stream",
     "text": [
      "Compute 22-th fibonacci number\n",
      "Compute 21-th fibonacci number\n",
      "Compute 20-th fibonacci number\n",
      "Compute 19-th fibonacci number\n",
      "Compute 18-th fibonacci number\n",
      "Compute 17-th fibonacci number\n",
      "Compute 16-th fibonacci number\n",
      "Compute 15-th fibonacci number\n",
      "Compute 14-th fibonacci number\n",
      "Compute 13-th fibonacci number\n",
      "Compute 12-th fibonacci number\n",
      "Compute 11-th fibonacci number\n"
     ]
    },
    {
     "data": {
      "text/plain": [
       "17711"
      ]
     },
     "execution_count": 157,
     "metadata": {},
     "output_type": "execute_result"
    }
   ],
   "source": [
    "fib(22)"
   ]
  },
  {
   "cell_type": "code",
   "execution_count": 158,
   "id": "7cfc3bb8",
   "metadata": {},
   "outputs": [
    {
     "name": "stdout",
     "output_type": "stream",
     "text": [
      "Compute 5-th fibonacci number\n",
      "Compute 4-th fibonacci number\n",
      "Compute 3-th fibonacci number\n",
      "Compute 2-th fibonacci number\n",
      "Compute 1-th fibonacci number\n"
     ]
    },
    {
     "data": {
      "text/plain": [
       "5"
      ]
     },
     "execution_count": 158,
     "metadata": {},
     "output_type": "execute_result"
    }
   ],
   "source": [
    "fib(5) # had to recalculate it because it was not in the recent cache"
   ]
  },
  {
   "cell_type": "markdown",
   "id": "05d5a44d",
   "metadata": {},
   "source": [
    "## Parametrized decorator"
   ]
  },
  {
   "cell_type": "code",
   "execution_count": 159,
   "id": "3b1549a6",
   "metadata": {},
   "outputs": [],
   "source": [
    "## Time execution after runing `reps` runs\n",
    "\n",
    "def timed(iter_to_run):\n",
    "    # timed is a decorator factory, it returns a decorator!\n",
    "    \n",
    "    def decorator(func):\n",
    "        \n",
    "        from time import perf_counter\n",
    "        \n",
    "        @wraps(func)\n",
    "        def inner(*args, **kwargs):\n",
    "            total_time = 0\n",
    "            for i in range(iter_to_run):\n",
    "                start_time = perf_counter()\n",
    "                \n",
    "                result = func(*args, **kwargs)\n",
    "                \n",
    "                total_time += (perf_counter() - start_time)\n",
    "            \n",
    "            avg_time_elapsed = total_time / iter_to_run\n",
    "            print(avg_time_elapsed)\n",
    "            return result\n",
    "        \n",
    "        return inner\n",
    "    \n",
    "    return decorator"
   ]
  },
  {
   "cell_type": "code",
   "execution_count": null,
   "id": "47789cf8",
   "metadata": {},
   "outputs": [],
   "source": [
    "@timed(10)\n",
    "def my_func():\n",
    "    pass"
   ]
  },
  {
   "cell_type": "code",
   "execution_count": null,
   "id": "79343f45",
   "metadata": {},
   "outputs": [],
   "source": []
  },
  {
   "cell_type": "code",
   "execution_count": null,
   "id": "ae2b257f",
   "metadata": {},
   "outputs": [],
   "source": []
  },
  {
   "cell_type": "markdown",
   "id": "08558c70",
   "metadata": {},
   "source": [
    "## `.map(func, *iterables)`"
   ]
  },
  {
   "cell_type": "code",
   "execution_count": 160,
   "id": "1bba7001",
   "metadata": {},
   "outputs": [
    {
     "data": {
      "text/plain": [
       "[4, 9, 16]"
      ]
     },
     "execution_count": 160,
     "metadata": {},
     "output_type": "execute_result"
    }
   ],
   "source": [
    "l = [2,3,4]\n",
    "\n",
    "def sq(x):\n",
    "    return x**2\n",
    "\n",
    "list(map(sq, l))"
   ]
  },
  {
   "cell_type": "code",
   "execution_count": 161,
   "id": "9342c5de",
   "metadata": {},
   "outputs": [
    {
     "data": {
      "text/plain": [
       "[11, 22, 33]"
      ]
     },
     "execution_count": 161,
     "metadata": {},
     "output_type": "execute_result"
    }
   ],
   "source": [
    "l1 = [1,2,3]\n",
    "l2 = [10,20,30]\n",
    "\n",
    "def add(x,y):\n",
    "    return x+y\n",
    "\n",
    "list(map(add, l1, l2)) # take 1 item from l1 and 1 from l2 and add them together"
   ]
  },
  {
   "cell_type": "code",
   "execution_count": 164,
   "id": "b7b53d46",
   "metadata": {},
   "outputs": [
    {
     "data": {
      "text/plain": [
       "[11, 22, 33]"
      ]
     },
     "execution_count": 164,
     "metadata": {},
     "output_type": "execute_result"
    }
   ],
   "source": [
    "l1 = [1,2,3]\n",
    "l2 = [10,20,30, 40, 50]\n",
    "\n",
    "def add(x,y):\n",
    "    return x+y\n",
    "\n",
    "list(map(lambda x,y: x+y , l1, l2)) # take 1 item from l1 and 1 from l2 and add them together"
   ]
  },
  {
   "cell_type": "markdown",
   "id": "30698973",
   "metadata": {},
   "source": [
    "## `.filter(func, iterable)`"
   ]
  },
  {
   "cell_type": "code",
   "execution_count": null,
   "id": "ebb8ce2e",
   "metadata": {},
   "outputs": [],
   "source": []
  },
  {
   "cell_type": "code",
   "execution_count": null,
   "id": "84fe7f79",
   "metadata": {},
   "outputs": [],
   "source": []
  },
  {
   "cell_type": "code",
   "execution_count": null,
   "id": "77fb43ff",
   "metadata": {},
   "outputs": [],
   "source": []
  },
  {
   "cell_type": "code",
   "execution_count": null,
   "id": "f02b6fb2",
   "metadata": {},
   "outputs": [],
   "source": []
  },
  {
   "cell_type": "code",
   "execution_count": null,
   "id": "445d460c",
   "metadata": {},
   "outputs": [],
   "source": []
  },
  {
   "cell_type": "code",
   "execution_count": null,
   "id": "9e2261e2",
   "metadata": {},
   "outputs": [],
   "source": []
  },
  {
   "cell_type": "code",
   "execution_count": null,
   "id": "98330b16",
   "metadata": {},
   "outputs": [],
   "source": []
  },
  {
   "cell_type": "code",
   "execution_count": null,
   "id": "aaf5fcd7",
   "metadata": {},
   "outputs": [],
   "source": []
  },
  {
   "cell_type": "code",
   "execution_count": null,
   "id": "5e34f0e5",
   "metadata": {},
   "outputs": [],
   "source": []
  },
  {
   "cell_type": "code",
   "execution_count": 153,
   "id": "a2480912",
   "metadata": {},
   "outputs": [
    {
     "ename": "SyntaxError",
     "evalue": "invalid syntax (1111643583.py, line 2)",
     "output_type": "error",
     "traceback": [
      "\u001b[1;36m  Input \u001b[1;32mIn [153]\u001b[1;36m\u001b[0m\n\u001b[1;33m    - REGEX!!!!!!!!!!!!!\u001b[0m\n\u001b[1;37m           ^\u001b[0m\n\u001b[1;31mSyntaxError\u001b[0m\u001b[1;31m:\u001b[0m invalid syntax\n"
     ]
    }
   ],
   "source": [
    "## TODO:\n",
    "- REGEX!!!!!!!!!!!!!\n",
    "- \n",
    "- \n",
    "- pandas loc and iloc, merge concat etc\n",
    "- pandas map etc\n",
    "- \n",
    "- \n",
    "- \n",
    "- DATA STRUCTURES (Binary Tree, Depth First Tree etc, Graphs)\n",
    "- static methods and class methods\n",
    "- Inheritance and super()\n",
    "- \n",
    "- \n",
    "- \n",
    "- Decorators \n",
    "- caching, memoization  (OK)\n",
    "- Decorator class\n",
    "- \n",
    "- \n",
    "- \n",
    "- Property and Descriptors\n",
    "- \n",
    "- \n",
    "- \n",
    "- Function like .map(), .partial(), zip(), \n",
    "- Context managers\n",
    "- \n",
    "- \n",
    "- \n",
    "- \n",
    "- Annotations and Docstrings\n",
    "- * and /\n",
    "- TypeCheck\n",
    "- \n",
    "- \n",
    "- \n",
    "- Logging and UnitTesting/Pytests\n",
    "- \n",
    "- \n",
    "- \n",
    "- \n",
    "- ABC classes\n",
    "- Metaprogramming\n",
    "- HASHABLE\n",
    "- \n",
    "- "
   ]
  },
  {
   "cell_type": "code",
   "execution_count": null,
   "id": "4784410f",
   "metadata": {},
   "outputs": [],
   "source": []
  },
  {
   "cell_type": "code",
   "execution_count": null,
   "id": "654b57dd",
   "metadata": {},
   "outputs": [],
   "source": []
  },
  {
   "cell_type": "markdown",
   "id": "1214f665",
   "metadata": {},
   "source": [
    "## Pandas\n",
    "\n",
    "- \n",
    "- loc, iloc\n",
    "- .map()\n",
    "- \n",
    "- \n",
    "- merge, concat, groupby etc.\n",
    "- \n",
    "- "
   ]
  },
  {
   "cell_type": "code",
   "execution_count": null,
   "id": "ae084bc0",
   "metadata": {},
   "outputs": [],
   "source": []
  },
  {
   "cell_type": "code",
   "execution_count": null,
   "id": "fad642d2",
   "metadata": {},
   "outputs": [],
   "source": []
  },
  {
   "cell_type": "code",
   "execution_count": null,
   "id": "8d43dd84",
   "metadata": {},
   "outputs": [],
   "source": []
  },
  {
   "cell_type": "code",
   "execution_count": null,
   "id": "109b67ba",
   "metadata": {},
   "outputs": [],
   "source": []
  },
  {
   "cell_type": "code",
   "execution_count": null,
   "id": "a0258f1c",
   "metadata": {},
   "outputs": [],
   "source": []
  },
  {
   "cell_type": "markdown",
   "id": "e7519d22",
   "metadata": {},
   "source": [
    "## Python NN scratch\n",
    "\n",
    "- Use database for caching and loading/saving data\n",
    "- \n",
    "- \n",
    "- "
   ]
  },
  {
   "cell_type": "code",
   "execution_count": null,
   "id": "fd0eb24c",
   "metadata": {},
   "outputs": [],
   "source": []
  },
  {
   "cell_type": "code",
   "execution_count": null,
   "id": "1a9593ce",
   "metadata": {},
   "outputs": [],
   "source": []
  },
  {
   "cell_type": "code",
   "execution_count": null,
   "id": "abdea285",
   "metadata": {},
   "outputs": [],
   "source": []
  },
  {
   "cell_type": "code",
   "execution_count": null,
   "id": "6a8ccba0",
   "metadata": {},
   "outputs": [],
   "source": []
  },
  {
   "cell_type": "code",
   "execution_count": null,
   "id": "262772a2",
   "metadata": {},
   "outputs": [],
   "source": []
  },
  {
   "cell_type": "markdown",
   "id": "6f993230",
   "metadata": {},
   "source": [
    "## Tensorflow/Pytorch"
   ]
  },
  {
   "cell_type": "code",
   "execution_count": null,
   "id": "caeddf6f",
   "metadata": {},
   "outputs": [],
   "source": []
  },
  {
   "cell_type": "code",
   "execution_count": null,
   "id": "0d0d630b",
   "metadata": {},
   "outputs": [],
   "source": []
  },
  {
   "cell_type": "code",
   "execution_count": null,
   "id": "a1e6a60b",
   "metadata": {},
   "outputs": [],
   "source": []
  },
  {
   "cell_type": "code",
   "execution_count": null,
   "id": "77ed5907",
   "metadata": {},
   "outputs": [],
   "source": []
  },
  {
   "cell_type": "code",
   "execution_count": null,
   "id": "9fc8f334",
   "metadata": {},
   "outputs": [],
   "source": []
  },
  {
   "cell_type": "code",
   "execution_count": null,
   "id": "120efe43",
   "metadata": {},
   "outputs": [],
   "source": []
  },
  {
   "cell_type": "code",
   "execution_count": null,
   "id": "2f0afae5",
   "metadata": {},
   "outputs": [],
   "source": []
  },
  {
   "cell_type": "code",
   "execution_count": null,
   "id": "daa0803c",
   "metadata": {},
   "outputs": [],
   "source": []
  }
 ],
 "metadata": {
  "kernelspec": {
   "display_name": "Python 3 (ipykernel)",
   "language": "python",
   "name": "python3"
  },
  "language_info": {
   "codemirror_mode": {
    "name": "ipython",
    "version": 3
   },
   "file_extension": ".py",
   "mimetype": "text/x-python",
   "name": "python",
   "nbconvert_exporter": "python",
   "pygments_lexer": "ipython3",
   "version": "3.8.8"
  }
 },
 "nbformat": 4,
 "nbformat_minor": 5
}
