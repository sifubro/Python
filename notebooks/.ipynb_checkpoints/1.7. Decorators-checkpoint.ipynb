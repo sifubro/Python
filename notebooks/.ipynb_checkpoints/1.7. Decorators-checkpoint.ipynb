{
 "cells": [
  {
   "cell_type": "markdown",
   "id": "a2f9b43d",
   "metadata": {},
   "source": [
    "## TODO \n",
    "- global and local\n",
    "- nonlocal\n",
    "- closures\n",
    "- decorators"
   ]
  },
  {
   "cell_type": "code",
   "execution_count": 3,
   "id": "c95a50d9",
   "metadata": {},
   "outputs": [
    {
     "name": "stdout",
     "output_type": "stream",
     "text": [
      "2\n"
     ]
    }
   ],
   "source": [
    "a = 1\n",
    "\n",
    "def outer_func():\n",
    "    a = 2\n",
    "    \n",
    "    def inner_func():\n",
    "        print(a)\n",
    "        \n",
    "    return inner_func\n",
    "    \n",
    "outer_func()()"
   ]
  },
  {
   "cell_type": "code",
   "execution_count": 7,
   "id": "85497680",
   "metadata": {},
   "outputs": [
    {
     "name": "stdout",
     "output_type": "stream",
     "text": [
      "3\n"
     ]
    },
    {
     "data": {
      "text/plain": [
       "(3, 1)"
      ]
     },
     "execution_count": 7,
     "metadata": {},
     "output_type": "execute_result"
    }
   ],
   "source": [
    "a = 1\n",
    "\n",
    "def outer_func():\n",
    "    a = 2\n",
    "    \n",
    "    def inner_func():\n",
    "        a = 3\n",
    "        print(a)\n",
    "        return a\n",
    "        \n",
    "    return inner_func()\n",
    "\n",
    "outer_func(), a"
   ]
  },
  {
   "cell_type": "code",
   "execution_count": 9,
   "id": "777cca96",
   "metadata": {},
   "outputs": [
    {
     "name": "stdout",
     "output_type": "stream",
     "text": [
      "3\n"
     ]
    },
    {
     "data": {
      "text/plain": [
       "(3, 2)"
      ]
     },
     "execution_count": 9,
     "metadata": {},
     "output_type": "execute_result"
    }
   ],
   "source": [
    "a = 1\n",
    "\n",
    "def outer_func():\n",
    "    global a \n",
    "    a = 2\n",
    "    \n",
    "    def inner_func():\n",
    "        a = 3\n",
    "        print(a)\n",
    "        return a\n",
    "        \n",
    "    return inner_func()\n",
    "\n",
    "outer_func(), a"
   ]
  },
  {
   "cell_type": "code",
   "execution_count": 11,
   "id": "54aa0587",
   "metadata": {},
   "outputs": [
    {
     "name": "stdout",
     "output_type": "stream",
     "text": [
      "3\n"
     ]
    },
    {
     "data": {
      "text/plain": [
       "((3, 5), 2)"
      ]
     },
     "execution_count": 11,
     "metadata": {},
     "output_type": "execute_result"
    }
   ],
   "source": [
    "a = 1\n",
    "\n",
    "def outer_func():\n",
    "    global a \n",
    "    a = 2\n",
    "    b = 3\n",
    "    \n",
    "    def inner_func():\n",
    "        nonlocal b\n",
    "        b = 5\n",
    "        a = 3\n",
    "        print(a)\n",
    "        return a, b\n",
    "        \n",
    "    return inner_func()\n",
    "\n",
    "outer_func(), a"
   ]
  },
  {
   "cell_type": "markdown",
   "id": "3312fc18",
   "metadata": {},
   "source": [
    "## closures"
   ]
  },
  {
   "cell_type": "code",
   "execution_count": 14,
   "id": "40f2a004",
   "metadata": {},
   "outputs": [
    {
     "data": {
      "text/plain": [
       "{'__name__': '__main__',\n",
       " '__doc__': 'Automatically created module for IPython interactive environment',\n",
       " '__package__': None,\n",
       " '__loader__': None,\n",
       " '__spec__': None,\n",
       " '__builtin__': <module 'builtins' (built-in)>,\n",
       " '__builtins__': <module 'builtins' (built-in)>,\n",
       " '_ih': ['',\n",
       "  'a = 1\\n\\ndef outer_func():\\n    a = 2\\n    \\n    def inner_func():\\n        print(a)\\n        \\n    inner_func()\\n    \\nouter_func()',\n",
       "  'a = 1\\n\\ndef outer_func():\\n    a = 2\\n    \\n    def inner_func():\\n        print(a)\\n        \\n    return inner_func\\n    \\nouter_func()',\n",
       "  'a = 1\\n\\ndef outer_func():\\n    a = 2\\n    \\n    def inner_func():\\n        print(a)\\n        \\n    return inner_func\\n    \\nouter_func()()',\n",
       "  'a = 1\\n\\ndef outer_func():\\n    a = 2\\n    \\n    def inner_func():\\n        a = 3\\n        print(a)\\n        \\n    return inner_func()\\n\\nouter_func(), a',\n",
       "  'a = 1\\n\\ndef outer_func():\\n    a = 2\\n    \\n    def inner_func():\\n        a = 3\\n        print(a)\\n        \\n    inner_func()\\n\\nouter_func(), a',\n",
       "  'a = 1\\n\\ndef outer_func():\\n    a = 2\\n    \\n    def inner_func():\\n        a = 3\\n        print(a)\\n        return a\\n        \\n    inner_func()\\n\\nouter_func(), a',\n",
       "  'a = 1\\n\\ndef outer_func():\\n    a = 2\\n    \\n    def inner_func():\\n        a = 3\\n        print(a)\\n        return a\\n        \\n    return inner_func()\\n\\nouter_func(), a',\n",
       "  'a = 1\\n\\ndef outer_func():\\n    global a = 2\\n    \\n    def inner_func():\\n        a = 3\\n        print(a)\\n        return a\\n        \\n    return inner_func()\\n\\nouter_func(), a',\n",
       "  'a = 1\\n\\ndef outer_func():\\n    global a \\n    a = 2\\n    \\n    def inner_func():\\n        a = 3\\n        print(a)\\n        return a\\n        \\n    return inner_func()\\n\\nouter_func(), a',\n",
       "  'a = 1\\n\\ndef outer_func():\\n    global a \\n    a = 2\\n    \\n    def inner_func():\\n        nonlocal a\\n        a = 3\\n        print(a)\\n        return a\\n        \\n    return inner_func()\\n\\nouter_func(), a',\n",
       "  'a = 1\\n\\ndef outer_func():\\n    global a \\n    a = 2\\n    b = 3\\n    \\n    def inner_func():\\n        nonlocal b\\n        b = 5\\n        a = 3\\n        print(a)\\n        return a, b\\n        \\n    return inner_func()\\n\\nouter_func(), a',\n",
       "  '## closues',\n",
       "  'globals',\n",
       "  'globals()'],\n",
       " '_oh': {2: <function __main__.outer_func.<locals>.inner_func()>,\n",
       "  4: (None, 1),\n",
       "  5: (None, 1),\n",
       "  6: (None, 1),\n",
       "  7: (3, 1),\n",
       "  9: (3, 2),\n",
       "  11: ((3, 5), 2),\n",
       "  13: <function globals()>},\n",
       " '_dh': [WindowsPath('C:/Users/SiFuBrO/Desktop/SCRIPTS!!!!!/GitHub/Python/notebooks')],\n",
       " 'In': ['',\n",
       "  'a = 1\\n\\ndef outer_func():\\n    a = 2\\n    \\n    def inner_func():\\n        print(a)\\n        \\n    inner_func()\\n    \\nouter_func()',\n",
       "  'a = 1\\n\\ndef outer_func():\\n    a = 2\\n    \\n    def inner_func():\\n        print(a)\\n        \\n    return inner_func\\n    \\nouter_func()',\n",
       "  'a = 1\\n\\ndef outer_func():\\n    a = 2\\n    \\n    def inner_func():\\n        print(a)\\n        \\n    return inner_func\\n    \\nouter_func()()',\n",
       "  'a = 1\\n\\ndef outer_func():\\n    a = 2\\n    \\n    def inner_func():\\n        a = 3\\n        print(a)\\n        \\n    return inner_func()\\n\\nouter_func(), a',\n",
       "  'a = 1\\n\\ndef outer_func():\\n    a = 2\\n    \\n    def inner_func():\\n        a = 3\\n        print(a)\\n        \\n    inner_func()\\n\\nouter_func(), a',\n",
       "  'a = 1\\n\\ndef outer_func():\\n    a = 2\\n    \\n    def inner_func():\\n        a = 3\\n        print(a)\\n        return a\\n        \\n    inner_func()\\n\\nouter_func(), a',\n",
       "  'a = 1\\n\\ndef outer_func():\\n    a = 2\\n    \\n    def inner_func():\\n        a = 3\\n        print(a)\\n        return a\\n        \\n    return inner_func()\\n\\nouter_func(), a',\n",
       "  'a = 1\\n\\ndef outer_func():\\n    global a = 2\\n    \\n    def inner_func():\\n        a = 3\\n        print(a)\\n        return a\\n        \\n    return inner_func()\\n\\nouter_func(), a',\n",
       "  'a = 1\\n\\ndef outer_func():\\n    global a \\n    a = 2\\n    \\n    def inner_func():\\n        a = 3\\n        print(a)\\n        return a\\n        \\n    return inner_func()\\n\\nouter_func(), a',\n",
       "  'a = 1\\n\\ndef outer_func():\\n    global a \\n    a = 2\\n    \\n    def inner_func():\\n        nonlocal a\\n        a = 3\\n        print(a)\\n        return a\\n        \\n    return inner_func()\\n\\nouter_func(), a',\n",
       "  'a = 1\\n\\ndef outer_func():\\n    global a \\n    a = 2\\n    b = 3\\n    \\n    def inner_func():\\n        nonlocal b\\n        b = 5\\n        a = 3\\n        print(a)\\n        return a, b\\n        \\n    return inner_func()\\n\\nouter_func(), a',\n",
       "  '## closues',\n",
       "  'globals',\n",
       "  'globals()'],\n",
       " 'Out': {2: <function __main__.outer_func.<locals>.inner_func()>,\n",
       "  4: (None, 1),\n",
       "  5: (None, 1),\n",
       "  6: (None, 1),\n",
       "  7: (3, 1),\n",
       "  9: (3, 2),\n",
       "  11: ((3, 5), 2),\n",
       "  13: <function globals()>},\n",
       " 'get_ipython': <bound method InteractiveShell.get_ipython of <ipykernel.zmqshell.ZMQInteractiveShell object at 0x00000239E94CFA60>>,\n",
       " 'exit': <IPython.core.autocall.ZMQExitAutocall at 0x239e948f580>,\n",
       " 'quit': <IPython.core.autocall.ZMQExitAutocall at 0x239e948f580>,\n",
       " '_': <function globals()>,\n",
       " '__': ((3, 5), 2),\n",
       " '___': (3, 2),\n",
       " '_i': 'globals',\n",
       " '_ii': '## closues',\n",
       " '_iii': 'a = 1\\n\\ndef outer_func():\\n    global a \\n    a = 2\\n    b = 3\\n    \\n    def inner_func():\\n        nonlocal b\\n        b = 5\\n        a = 3\\n        print(a)\\n        return a, b\\n        \\n    return inner_func()\\n\\nouter_func(), a',\n",
       " '_i1': 'a = 1\\n\\ndef outer_func():\\n    a = 2\\n    \\n    def inner_func():\\n        print(a)\\n        \\n    inner_func()\\n    \\nouter_func()',\n",
       " 'a': 2,\n",
       " 'outer_func': <function __main__.outer_func()>,\n",
       " '_i2': 'a = 1\\n\\ndef outer_func():\\n    a = 2\\n    \\n    def inner_func():\\n        print(a)\\n        \\n    return inner_func\\n    \\nouter_func()',\n",
       " '_2': <function __main__.outer_func.<locals>.inner_func()>,\n",
       " '_i3': 'a = 1\\n\\ndef outer_func():\\n    a = 2\\n    \\n    def inner_func():\\n        print(a)\\n        \\n    return inner_func\\n    \\nouter_func()()',\n",
       " '_i4': 'a = 1\\n\\ndef outer_func():\\n    a = 2\\n    \\n    def inner_func():\\n        a = 3\\n        print(a)\\n        \\n    return inner_func()\\n\\nouter_func(), a',\n",
       " '_4': (None, 1),\n",
       " '_i5': 'a = 1\\n\\ndef outer_func():\\n    a = 2\\n    \\n    def inner_func():\\n        a = 3\\n        print(a)\\n        \\n    inner_func()\\n\\nouter_func(), a',\n",
       " '_5': (None, 1),\n",
       " '_i6': 'a = 1\\n\\ndef outer_func():\\n    a = 2\\n    \\n    def inner_func():\\n        a = 3\\n        print(a)\\n        return a\\n        \\n    inner_func()\\n\\nouter_func(), a',\n",
       " '_6': (None, 1),\n",
       " '_i7': 'a = 1\\n\\ndef outer_func():\\n    a = 2\\n    \\n    def inner_func():\\n        a = 3\\n        print(a)\\n        return a\\n        \\n    return inner_func()\\n\\nouter_func(), a',\n",
       " '_7': (3, 1),\n",
       " '_i8': 'a = 1\\n\\ndef outer_func():\\n    global a = 2\\n    \\n    def inner_func():\\n        a = 3\\n        print(a)\\n        return a\\n        \\n    return inner_func()\\n\\nouter_func(), a',\n",
       " '_i9': 'a = 1\\n\\ndef outer_func():\\n    global a \\n    a = 2\\n    \\n    def inner_func():\\n        a = 3\\n        print(a)\\n        return a\\n        \\n    return inner_func()\\n\\nouter_func(), a',\n",
       " '_9': (3, 2),\n",
       " '_i10': 'a = 1\\n\\ndef outer_func():\\n    global a \\n    a = 2\\n    \\n    def inner_func():\\n        nonlocal a\\n        a = 3\\n        print(a)\\n        return a\\n        \\n    return inner_func()\\n\\nouter_func(), a',\n",
       " '_i11': 'a = 1\\n\\ndef outer_func():\\n    global a \\n    a = 2\\n    b = 3\\n    \\n    def inner_func():\\n        nonlocal b\\n        b = 5\\n        a = 3\\n        print(a)\\n        return a, b\\n        \\n    return inner_func()\\n\\nouter_func(), a',\n",
       " '_11': ((3, 5), 2),\n",
       " '_i12': '## closues',\n",
       " '_i13': 'globals',\n",
       " '_13': <function globals()>,\n",
       " '_i14': 'globals()'}"
      ]
     },
     "execution_count": 14,
     "metadata": {},
     "output_type": "execute_result"
    }
   ],
   "source": [
    "globals()"
   ]
  },
  {
   "cell_type": "code",
   "execution_count": null,
   "id": "5595ed98",
   "metadata": {},
   "outputs": [],
   "source": []
  },
  {
   "cell_type": "code",
   "execution_count": 2,
   "id": "5522911c",
   "metadata": {},
   "outputs": [
    {
     "data": {
      "text/plain": [
       "1"
      ]
     },
     "execution_count": 2,
     "metadata": {},
     "output_type": "execute_result"
    }
   ],
   "source": [
    "def count():\n",
    "    cnt = 0\n",
    "    def inner():\n",
    "        nonlocal cnt\n",
    "        cnt+=1\n",
    "        return cnt\n",
    "    return inner\n",
    "\n",
    "func = count()\n",
    "func()"
   ]
  },
  {
   "cell_type": "code",
   "execution_count": 3,
   "id": "8c98f867",
   "metadata": {},
   "outputs": [
    {
     "data": {
      "text/plain": [
       "2"
      ]
     },
     "execution_count": 3,
     "metadata": {},
     "output_type": "execute_result"
    }
   ],
   "source": [
    "func()"
   ]
  },
  {
   "cell_type": "code",
   "execution_count": 4,
   "id": "d31e81fc",
   "metadata": {},
   "outputs": [
    {
     "data": {
      "text/plain": [
       "3"
      ]
     },
     "execution_count": 4,
     "metadata": {},
     "output_type": "execute_result"
    }
   ],
   "source": [
    "func()"
   ]
  },
  {
   "cell_type": "code",
   "execution_count": 5,
   "id": "625f790e",
   "metadata": {},
   "outputs": [
    {
     "data": {
      "text/plain": [
       "13"
      ]
     },
     "execution_count": 5,
     "metadata": {},
     "output_type": "execute_result"
    }
   ],
   "source": [
    "def adder(n):\n",
    "    def inner(x):\n",
    "        return x + n\n",
    "    return inner\n",
    "\n",
    "add_1 = adder(1)\n",
    "add_2 = adder(2)\n",
    "add_3 = adder(3)\n",
    "\n",
    "add_3(10)"
   ]
  },
  {
   "cell_type": "code",
   "execution_count": 6,
   "id": "a43e470e",
   "metadata": {},
   "outputs": [
    {
     "data": {
      "text/plain": [
       "15"
      ]
     },
     "execution_count": 6,
     "metadata": {},
     "output_type": "execute_result"
    }
   ],
   "source": [
    "n = 10\n",
    "\n",
    "def my_func(x):\n",
    "    return x + n\n",
    "\n",
    "my_func(5)"
   ]
  },
  {
   "cell_type": "code",
   "execution_count": 7,
   "id": "ea0ac34b",
   "metadata": {},
   "outputs": [
    {
     "data": {
      "text/plain": [
       "25"
      ]
     },
     "execution_count": 7,
     "metadata": {},
     "output_type": "execute_result"
    }
   ],
   "source": [
    "n = 20\n",
    "my_func(5)"
   ]
  },
  {
   "cell_type": "code",
   "execution_count": null,
   "id": "6b90c518",
   "metadata": {},
   "outputs": [],
   "source": []
  },
  {
   "cell_type": "code",
   "execution_count": null,
   "id": "ff85092d",
   "metadata": {},
   "outputs": [],
   "source": []
  },
  {
   "cell_type": "markdown",
   "id": "d3954d42",
   "metadata": {},
   "source": [
    "### Decorators"
   ]
  },
  {
   "cell_type": "code",
   "execution_count": 23,
   "id": "4434c677",
   "metadata": {},
   "outputs": [
    {
     "name": "stdout",
     "output_type": "stream",
     "text": [
      "Function my_add was called 1 times\n"
     ]
    },
    {
     "data": {
      "text/plain": [
       "3"
      ]
     },
     "execution_count": 23,
     "metadata": {},
     "output_type": "execute_result"
    }
   ],
   "source": [
    "def counter(func):\n",
    "    count = 0\n",
    "    \n",
    "    def inner(*args, **kwargs):\n",
    "        nonlocal count\n",
    "        count += 1\n",
    "        print(f\"Function {func.__name__} was called {count} times\")\n",
    "        return func(*args, **kwargs)\n",
    "    \n",
    "    return inner\n",
    "\n",
    "def my_add(a,b):\n",
    "    return a+b\n",
    "\n",
    "add_decorated = counter(my_add)\n",
    "add_decorated(1,2)"
   ]
  },
  {
   "cell_type": "code",
   "execution_count": 24,
   "id": "0d639cf6",
   "metadata": {},
   "outputs": [
    {
     "name": "stdout",
     "output_type": "stream",
     "text": [
      "Function my_add was called 2 times\n"
     ]
    },
    {
     "data": {
      "text/plain": [
       "10"
      ]
     },
     "execution_count": 24,
     "metadata": {},
     "output_type": "execute_result"
    }
   ],
   "source": [
    "add_decorated(4,6)"
   ]
  },
  {
   "cell_type": "code",
   "execution_count": 25,
   "id": "c8e96220",
   "metadata": {},
   "outputs": [
    {
     "name": "stdout",
     "output_type": "stream",
     "text": [
      "Function my_add was called 3 times\n"
     ]
    },
    {
     "data": {
      "text/plain": [
       "15"
      ]
     },
     "execution_count": 25,
     "metadata": {},
     "output_type": "execute_result"
    }
   ],
   "source": [
    "add_decorated(-4,19)"
   ]
  },
  {
   "cell_type": "code",
   "execution_count": null,
   "id": "561aaa64",
   "metadata": {},
   "outputs": [],
   "source": [
    "@counter\n",
    "def my_add(a,b):\n",
    "    return a+b"
   ]
  },
  {
   "cell_type": "code",
   "execution_count": null,
   "id": "14ead30c",
   "metadata": {},
   "outputs": [],
   "source": []
  },
  {
   "cell_type": "code",
   "execution_count": null,
   "id": "362b5d7e",
   "metadata": {},
   "outputs": [],
   "source": []
  },
  {
   "cell_type": "code",
   "execution_count": null,
   "id": "7212038a",
   "metadata": {},
   "outputs": [],
   "source": []
  },
  {
   "cell_type": "code",
   "execution_count": null,
   "id": "2db8e90d",
   "metadata": {},
   "outputs": [],
   "source": []
  },
  {
   "cell_type": "code",
   "execution_count": null,
   "id": "0f7163c4",
   "metadata": {},
   "outputs": [],
   "source": []
  },
  {
   "cell_type": "code",
   "execution_count": null,
   "id": "6a493d60",
   "metadata": {},
   "outputs": [],
   "source": []
  },
  {
   "cell_type": "code",
   "execution_count": null,
   "id": "1d36f906",
   "metadata": {},
   "outputs": [],
   "source": []
  },
  {
   "cell_type": "markdown",
   "id": "2284f181",
   "metadata": {},
   "source": [
    "## Property"
   ]
  },
  {
   "cell_type": "code",
   "execution_count": 19,
   "id": "b7ffa9db",
   "metadata": {},
   "outputs": [],
   "source": [
    "class Person:\n",
    "    \n",
    "    def __init__(self, name=\"\", attack=0, defence= 0):\n",
    "        \n",
    "        self._name = name\n",
    "        self._attack = attack\n",
    "        self._defence = defence\n",
    "        \n",
    "    def talk(self, text=\"\"):\n",
    "        print(f\"Person `{self._name}` says {text}\")\n",
    "\n",
    "    @property\n",
    "    def name(self):\n",
    "        return self._name\n",
    "    \n",
    "    @property\n",
    "    def attack(self):\n",
    "        return self._attack\n",
    "    \n",
    "    @property\n",
    "    def defence(self):\n",
    "        return self._defence\n",
    "    \n",
    "    def __str__(self):\n",
    "        return f\"Hero(name={hero.name}, attack={hero.attack}, defence={hero.defence})\"\n",
    "    \n",
    "        \n",
    "class Hero(Person):\n",
    "    \n",
    "    def __init__(self, *args, **kwargs):\n",
    "        super().__init__(*args, **kwargs)\n",
    "        "
   ]
  },
  {
   "cell_type": "code",
   "execution_count": 20,
   "id": "dcc05687",
   "metadata": {},
   "outputs": [
    {
     "data": {
      "text/plain": [
       "<__main__.Hero at 0x19e2a259100>"
      ]
     },
     "execution_count": 20,
     "metadata": {},
     "output_type": "execute_result"
    }
   ],
   "source": [
    "hero = Hero(name=\"Leonidas\", attack=98, defence=99)\n",
    "hero"
   ]
  },
  {
   "cell_type": "code",
   "execution_count": 21,
   "id": "80a8a750",
   "metadata": {},
   "outputs": [
    {
     "data": {
      "text/plain": [
       "('Leonidas', 98, 99)"
      ]
     },
     "execution_count": 21,
     "metadata": {},
     "output_type": "execute_result"
    }
   ],
   "source": [
    "hero.name, hero.attack, hero.defence"
   ]
  },
  {
   "cell_type": "code",
   "execution_count": 22,
   "id": "12b5c504",
   "metadata": {},
   "outputs": [
    {
     "name": "stdout",
     "output_type": "stream",
     "text": [
      "Hero(name=Leonidas, attack=98, defence=99)\n"
     ]
    }
   ],
   "source": [
    "print(hero)"
   ]
  },
  {
   "cell_type": "code",
   "execution_count": null,
   "id": "1ece082e",
   "metadata": {},
   "outputs": [],
   "source": []
  },
  {
   "cell_type": "code",
   "execution_count": null,
   "id": "afb53628",
   "metadata": {},
   "outputs": [],
   "source": []
  },
  {
   "cell_type": "code",
   "execution_count": null,
   "id": "9e51b208",
   "metadata": {},
   "outputs": [],
   "source": []
  },
  {
   "cell_type": "code",
   "execution_count": null,
   "id": "05ab5097",
   "metadata": {},
   "outputs": [],
   "source": []
  },
  {
   "cell_type": "code",
   "execution_count": null,
   "id": "845de0d1",
   "metadata": {},
   "outputs": [],
   "source": []
  },
  {
   "cell_type": "code",
   "execution_count": null,
   "id": "5e34f0e5",
   "metadata": {},
   "outputs": [],
   "source": []
  },
  {
   "cell_type": "code",
   "execution_count": null,
   "id": "a2480912",
   "metadata": {},
   "outputs": [],
   "source": []
  }
 ],
 "metadata": {
  "kernelspec": {
   "display_name": "Python 3 (ipykernel)",
   "language": "python",
   "name": "python3"
  },
  "language_info": {
   "codemirror_mode": {
    "name": "ipython",
    "version": 3
   },
   "file_extension": ".py",
   "mimetype": "text/x-python",
   "name": "python",
   "nbconvert_exporter": "python",
   "pygments_lexer": "ipython3",
   "version": "3.8.8"
  }
 },
 "nbformat": 4,
 "nbformat_minor": 5
}
