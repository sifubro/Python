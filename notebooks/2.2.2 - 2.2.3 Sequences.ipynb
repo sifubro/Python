{
 "cells": [
  {
   "cell_type": "markdown",
   "id": "8baa9146",
   "metadata": {},
   "source": [
    "## `Sequences`\n",
    "\n",
    "#### A. \n",
    "- `mutable`: lists, bytearrays\n",
    "- `immutable`: strings, tuples, range, bytes\n",
    "\n",
    "#### B.\n",
    "- `homogeneous`: each element has the smae type e.g. strings\n",
    "- `heterogeneous`: e.g list\n",
    "\n",
    "#### Any sequence type is `iterable` (i.e. that we can iterate over it)\n",
    "- Iterables are more general than sequences e.g. sets are iterable but are not sequence type.\n",
    "\n",
    "#### Sequence methods for a sequence `s`:\n",
    "- x `in` S, x `not is` S\n",
    "- concatenation: s1 + s2\n",
    "- repetition: s * n  (or n * s)\n",
    "- `len`(s) for finite sequences (we can have infinite seq, len will not work)\n",
    "- `min`(s), `max`(s) when there is ordering\n",
    "- `s.index(x)`  : gives index of first occurence of x in s\n",
    "- `x.index(x, i)`: gives index of first occurence of x in s, starting at index i looking for x\n",
    "- `x.index(x, i, j)`: start searching after i and before index j (j not included)\n",
    "- `s[i]`: indexing\n",
    "- `s[i:j]`: slicing - j not included\n",
    "- `s[i:j:k]`: slicing - j not included with step k\n",
    "- immutable sequence types may support hashing `hash(s)` but not if they contain mutable types"
   ]
  },
  {
   "cell_type": "markdown",
   "id": "d6f36902",
   "metadata": {},
   "source": [
    "#### be careful when concatenating! When we concatenate 2 sequences, we get a new object back"
   ]
  },
  {
   "cell_type": "code",
   "execution_count": 7,
   "id": "a1171624",
   "metadata": {},
   "outputs": [
    {
     "data": {
      "text/plain": [
       "[1, 2, 1, 2]"
      ]
     },
     "execution_count": 7,
     "metadata": {},
     "output_type": "execute_result"
    }
   ],
   "source": [
    "x = [1,2]  #1,2 are immutable\n",
    "a= x+x \n",
    "a"
   ]
  },
  {
   "cell_type": "code",
   "execution_count": 8,
   "id": "9ccda132",
   "metadata": {},
   "outputs": [
    {
     "data": {
      "text/plain": [
       "('0x17e33ea1c80', '0x17e33e7f600')"
      ]
     },
     "execution_count": 8,
     "metadata": {},
     "output_type": "execute_result"
    }
   ],
   "source": [
    "hex(id(x)), hex(id(a))"
   ]
  },
  {
   "cell_type": "code",
   "execution_count": 9,
   "id": "5f039acd",
   "metadata": {},
   "outputs": [
    {
     "data": {
      "text/plain": [
       "'pythonpython'"
      ]
     },
     "execution_count": 9,
     "metadata": {},
     "output_type": "execute_result"
    }
   ],
   "source": [
    "x = \"python\" #string is immutable\n",
    "a = x + x\n",
    "a"
   ]
  },
  {
   "cell_type": "code",
   "execution_count": 10,
   "id": "3a4da98b",
   "metadata": {},
   "outputs": [
    {
     "data": {
      "text/plain": [
       "('0x17e2fee3db0', '0x17e33e9d830')"
      ]
     },
     "execution_count": 10,
     "metadata": {},
     "output_type": "execute_result"
    }
   ],
   "source": [
    "hex(id(x)), hex(id(a))"
   ]
  },
  {
   "cell_type": "markdown",
   "id": "f80547e8",
   "metadata": {},
   "source": [
    "### BE CAREFUL when you concatenate/repeat sequences that contain mutable objects (e.g. lists)!!!"
   ]
  },
  {
   "cell_type": "code",
   "execution_count": 25,
   "id": "e0aa9bab",
   "metadata": {},
   "outputs": [
    {
     "data": {
      "text/plain": [
       "[[0, 0], [0, 0]]"
      ]
     },
     "execution_count": 25,
     "metadata": {},
     "output_type": "execute_result"
    }
   ],
   "source": [
    "x = [[0,0]] # [0,0] is mutable!!\n",
    "a = x+x\n",
    "a"
   ]
  },
  {
   "cell_type": "code",
   "execution_count": 26,
   "id": "a6293d2d",
   "metadata": {},
   "outputs": [
    {
     "data": {
      "text/plain": [
       "('0x17e33e93a40', '0x17e33e93b40')"
      ]
     },
     "execution_count": 26,
     "metadata": {},
     "output_type": "execute_result"
    }
   ],
   "source": [
    "hex(id(x)), hex(id(a))"
   ]
  },
  {
   "cell_type": "code",
   "execution_count": 27,
   "id": "8ce07a5d",
   "metadata": {},
   "outputs": [
    {
     "data": {
      "text/plain": [
       "('0x17e33ea1c80', '0x17e33ea1c80', '0x17e33ea1c80')"
      ]
     },
     "execution_count": 27,
     "metadata": {},
     "output_type": "execute_result"
    }
   ],
   "source": [
    "### it just coppied x 2 times. they share the same address!!\n",
    "\n",
    "hex(id(x[0])), hex(id(a[0])), hex(id(a[1])) # SAME ELEMENT!!!"
   ]
  },
  {
   "cell_type": "code",
   "execution_count": 28,
   "id": "a6886696",
   "metadata": {},
   "outputs": [
    {
     "data": {
      "text/plain": [
       "[[999, 0], [999, 0]]"
      ]
     },
     "execution_count": 28,
     "metadata": {},
     "output_type": "execute_result"
    }
   ],
   "source": [
    "a[0][0] = 999\n",
    "a"
   ]
  },
  {
   "cell_type": "code",
   "execution_count": 29,
   "id": "9e373f67",
   "metadata": {},
   "outputs": [
    {
     "data": {
      "text/plain": [
       "[[999, 0]]"
      ]
     },
     "execution_count": 29,
     "metadata": {},
     "output_type": "execute_result"
    }
   ],
   "source": [
    "x"
   ]
  },
  {
   "cell_type": "code",
   "execution_count": 30,
   "id": "e30169ea",
   "metadata": {},
   "outputs": [
    {
     "data": {
      "text/plain": [
       "[1, 2, 1, 2]"
      ]
     },
     "execution_count": 30,
     "metadata": {},
     "output_type": "execute_result"
    }
   ],
   "source": [
    "## same with repetition\n",
    "x = [1,2]\n",
    "a = x*2\n",
    "a"
   ]
  },
  {
   "cell_type": "code",
   "execution_count": 31,
   "id": "b6e6ad3a",
   "metadata": {},
   "outputs": [
    {
     "data": {
      "text/plain": [
       "('0x17e33ea1dc0', '0x17e33ebeac0')"
      ]
     },
     "execution_count": 31,
     "metadata": {},
     "output_type": "execute_result"
    }
   ],
   "source": [
    "hex(id(x)), hex(id(a))"
   ]
  },
  {
   "cell_type": "code",
   "execution_count": 32,
   "id": "37d928a3",
   "metadata": {},
   "outputs": [
    {
     "data": {
      "text/plain": [
       "[[0, 0], [0, 0]]"
      ]
     },
     "execution_count": 32,
     "metadata": {},
     "output_type": "execute_result"
    }
   ],
   "source": [
    "x = [[0,0]]\n",
    "a = x*2\n",
    "a"
   ]
  },
  {
   "cell_type": "code",
   "execution_count": 33,
   "id": "ceeb9125",
   "metadata": {},
   "outputs": [
    {
     "data": {
      "text/plain": [
       "('0x17e33ec8180', '0x17e33e95b40')"
      ]
     },
     "execution_count": 33,
     "metadata": {},
     "output_type": "execute_result"
    }
   ],
   "source": [
    "hex(id(x)), hex(id(a))"
   ]
  },
  {
   "cell_type": "code",
   "execution_count": 24,
   "id": "96d356a8",
   "metadata": {},
   "outputs": [
    {
     "data": {
      "text/plain": [
       "('0x17e33e4eec0', '0x17e33e4eec0', '0x17e33e4eec0')"
      ]
     },
     "execution_count": 24,
     "metadata": {},
     "output_type": "execute_result"
    }
   ],
   "source": [
    "hex(id(x[0])), hex(id(a[0])), hex(id(a[1]))"
   ]
  },
  {
   "cell_type": "markdown",
   "id": "98a76cc2",
   "metadata": {},
   "source": [
    "## Be careful"
   ]
  },
  {
   "cell_type": "code",
   "execution_count": 36,
   "id": "07889b67",
   "metadata": {},
   "outputs": [
    {
     "ename": "TypeError",
     "evalue": "'tuple' object does not support item assignment",
     "output_type": "error",
     "traceback": [
      "\u001b[1;31m---------------------------------------------------------------------------\u001b[0m",
      "\u001b[1;31mTypeError\u001b[0m                                 Traceback (most recent call last)",
      "Input \u001b[1;32mIn [36]\u001b[0m, in \u001b[0;36m<cell line: 2>\u001b[1;34m()\u001b[0m\n\u001b[0;32m      1\u001b[0m t \u001b[38;5;241m=\u001b[39m ([\u001b[38;5;241m1\u001b[39m,\u001b[38;5;241m2\u001b[39m], \u001b[38;5;241m3\u001b[39m, \u001b[38;5;241m4\u001b[39m)\n\u001b[1;32m----> 2\u001b[0m t[\u001b[38;5;241m0\u001b[39m]\u001b[38;5;241m=\u001b[39m \u001b[38;5;241m5\u001b[39m\n",
      "\u001b[1;31mTypeError\u001b[0m: 'tuple' object does not support item assignment"
     ]
    }
   ],
   "source": [
    "t = ([1,2], 3, 4)\n",
    "t[0]= 5"
   ]
  },
  {
   "cell_type": "code",
   "execution_count": 37,
   "id": "52f7bb1c",
   "metadata": {},
   "outputs": [
    {
     "data": {
      "text/plain": [
       "'0x17e33ef5ec0'"
      ]
     },
     "execution_count": 37,
     "metadata": {},
     "output_type": "execute_result"
    }
   ],
   "source": [
    "hex(id(t))"
   ]
  },
  {
   "cell_type": "code",
   "execution_count": 38,
   "id": "3085c6c6",
   "metadata": {},
   "outputs": [
    {
     "data": {
      "text/plain": [
       "([999, 2], 3, 4)"
      ]
     },
     "execution_count": 38,
     "metadata": {},
     "output_type": "execute_result"
    }
   ],
   "source": [
    "t[0][0]= 999\n",
    "t"
   ]
  },
  {
   "cell_type": "code",
   "execution_count": 39,
   "id": "a6a3c60b",
   "metadata": {},
   "outputs": [
    {
     "data": {
      "text/plain": [
       "'0x17e33ef5ec0'"
      ]
     },
     "execution_count": 39,
     "metadata": {},
     "output_type": "execute_result"
    }
   ],
   "source": [
    "hex(id(t))"
   ]
  },
  {
   "cell_type": "markdown",
   "id": "45e9516f",
   "metadata": {},
   "source": [
    "### enumerate"
   ]
  },
  {
   "cell_type": "code",
   "execution_count": 40,
   "id": "87e3d846",
   "metadata": {},
   "outputs": [
    {
     "data": {
      "text/plain": [
       "[(0, 'I'),\n",
       " (1, ' '),\n",
       " (2, 'l'),\n",
       " (3, 'o'),\n",
       " (4, 'v'),\n",
       " (5, 'e'),\n",
       " (6, ' '),\n",
       " (7, 'p'),\n",
       " (8, 'y'),\n",
       " (9, 't'),\n",
       " (10, 'h'),\n",
       " (11, 'o'),\n",
       " (12, 'n')]"
      ]
     },
     "execution_count": 40,
     "metadata": {},
     "output_type": "execute_result"
    }
   ],
   "source": [
    "s = \"I love python\"\n",
    "list(enumerate(s))"
   ]
  },
  {
   "cell_type": "markdown",
   "id": "0dec8ec0",
   "metadata": {},
   "source": [
    "### slicing"
   ]
  },
  {
   "cell_type": "code",
   "execution_count": null,
   "id": "2d9d8af1",
   "metadata": {},
   "outputs": [],
   "source": []
  },
  {
   "cell_type": "markdown",
   "id": "4e6b7da8",
   "metadata": {},
   "source": [
    "## Left at 18:22 at 2.2.3"
   ]
  },
  {
   "cell_type": "code",
   "execution_count": null,
   "id": "250efeb9",
   "metadata": {},
   "outputs": [],
   "source": []
  }
 ],
 "metadata": {
  "kernelspec": {
   "display_name": "Python 3 (ipykernel)",
   "language": "python",
   "name": "python3"
  },
  "language_info": {
   "codemirror_mode": {
    "name": "ipython",
    "version": 3
   },
   "file_extension": ".py",
   "mimetype": "text/x-python",
   "name": "python",
   "nbconvert_exporter": "python",
   "pygments_lexer": "ipython3",
   "version": "3.9.21"
  }
 },
 "nbformat": 4,
 "nbformat_minor": 5
}
