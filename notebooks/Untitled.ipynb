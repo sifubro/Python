{
 "cells": [
  {
   "cell_type": "code",
   "execution_count": null,
   "id": "8e13f64e-6270-45d4-ac8b-34ec13077129",
   "metadata": {},
   "outputs": [],
   "source": []
  }
 ],
 "metadata": {
  "kernelspec": {
   "display_name": "",
   "name": ""
  },
  "language_info": {
   "name": ""
  }
 },
 "nbformat": 4,
 "nbformat_minor": 5
}
