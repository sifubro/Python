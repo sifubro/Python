{
 "cells": [
  {
   "cell_type": "code",
   "execution_count": 2,
   "id": "7a63cecf",
   "metadata": {},
   "outputs": [
    {
     "data": {
      "text/plain": [
       "-57.648870636550306"
      ]
     },
     "execution_count": 2,
     "metadata": {},
     "output_type": "execute_result"
    }
   ],
   "source": [
    "## ADM\n",
    "\n",
    "top = 97.4\n",
    "now = 41.25\n",
    "\n",
    "diff = (now-top)/top * 100\n",
    "diff"
   ]
  },
  {
   "cell_type": "code",
   "execution_count": 2,
   "id": "010b928b",
   "metadata": {},
   "outputs": [
    {
     "data": {
      "text/plain": [
       "-24.917491749174918"
      ]
     },
     "execution_count": 2,
     "metadata": {},
     "output_type": "execute_result"
    }
   ],
   "source": [
    "## AMAZON\n",
    "top = 242.4\n",
    "# now = 169\n",
    "now = 182\n",
    "\n",
    "diff = (now-top)/top * 100\n",
    "diff"
   ]
  },
  {
   "cell_type": "code",
   "execution_count": 5,
   "id": "2b82608d",
   "metadata": {},
   "outputs": [
    {
     "data": {
      "text/plain": [
       "-22.841360596957063"
      ]
     },
     "execution_count": 5,
     "metadata": {},
     "output_type": "execute_result"
    }
   ],
   "source": [
    "## GOOGLE\n",
    "\n",
    "top = 206.38\n",
    "# now = 144.08\n",
    "now = 159.24\n",
    "\n",
    "diff = (now-top)/top * 100\n",
    "diff"
   ]
  },
  {
   "cell_type": "code",
   "execution_count": null,
   "id": "af22ae9f",
   "metadata": {},
   "outputs": [],
   "source": []
  },
  {
   "cell_type": "code",
   "execution_count": 1,
   "id": "07966d5e",
   "metadata": {},
   "outputs": [
    {
     "data": {
      "text/plain": [
       "-31.061546647747434"
      ]
     },
     "execution_count": 1,
     "metadata": {},
     "output_type": "execute_result"
    }
   ],
   "source": [
    "## TSM\n",
    "\n",
    "top = 225.52\n",
    "now = 155.47\n",
    "\n",
    "diff = (now-top)/top * 100\n",
    "diff"
   ]
  },
  {
   "cell_type": "code",
   "execution_count": 3,
   "id": "2d406c52",
   "metadata": {},
   "outputs": [
    {
     "data": {
      "text/plain": [
       "0.28"
      ]
     },
     "execution_count": 3,
     "metadata": {},
     "output_type": "execute_result"
    }
   ],
   "source": [
    "7/25"
   ]
  },
  {
   "cell_type": "code",
   "execution_count": 4,
   "id": "d5a738ce",
   "metadata": {},
   "outputs": [
    {
     "data": {
      "text/plain": [
       "-14.473458168699535"
      ]
     },
     "execution_count": 4,
     "metadata": {},
     "output_type": "execute_result"
    }
   ],
   "source": [
    "## FWRG\n",
    "\n",
    "top = 582.1\n",
    "now = 497.85\n",
    "\n",
    "diff = (now-top)/top * 100\n",
    "diff"
   ]
  },
  {
   "cell_type": "code",
   "execution_count": null,
   "id": "59e3bbad",
   "metadata": {},
   "outputs": [],
   "source": []
  },
  {
   "cell_type": "code",
   "execution_count": null,
   "id": "f9f157c7",
   "metadata": {},
   "outputs": [],
   "source": []
  },
  {
   "cell_type": "code",
   "execution_count": null,
   "id": "7186ddd4",
   "metadata": {},
   "outputs": [],
   "source": []
  },
  {
   "cell_type": "code",
   "execution_count": 6,
   "id": "d70e19fc",
   "metadata": {},
   "outputs": [
    {
     "data": {
      "text/plain": [
       "-18.896484375"
      ]
     },
     "execution_count": 6,
     "metadata": {},
     "output_type": "execute_result"
    }
   ],
   "source": [
    "## S&P 500\n",
    "\n",
    "top = 6144\n",
    "now = 4983\n",
    "\n",
    "diff = (now-top)/top * 100\n",
    "diff"
   ]
  },
  {
   "cell_type": "code",
   "execution_count": null,
   "id": "6643ada9",
   "metadata": {},
   "outputs": [],
   "source": []
  },
  {
   "cell_type": "code",
   "execution_count": null,
   "id": "2ac0c9f4",
   "metadata": {},
   "outputs": [],
   "source": []
  }
 ],
 "metadata": {
  "kernelspec": {
   "display_name": "Python 3.9 (langchain_env)",
   "language": "python",
   "name": "langchain_env"
  },
  "language_info": {
   "codemirror_mode": {
    "name": "ipython",
    "version": 3
   },
   "file_extension": ".py",
   "mimetype": "text/x-python",
   "name": "python",
   "nbconvert_exporter": "python",
   "pygments_lexer": "ipython3",
   "version": "3.9.21"
  }
 },
 "nbformat": 4,
 "nbformat_minor": 5
}
