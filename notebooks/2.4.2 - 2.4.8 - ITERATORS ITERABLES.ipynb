{
 "cells": [
  {
   "cell_type": "code",
   "execution_count": 1,
   "id": "e8a8b16d",
   "metadata": {},
   "outputs": [
    {
     "name": "stderr",
     "output_type": "stream",
     "text": [
      "C:\\Users\\SiFuBrO\\Anaconda3\\lib\\site-packages\\numpy\\_distributor_init.py:30: UserWarning: loaded more than 1 DLL from .libs:\n",
      "C:\\Users\\SiFuBrO\\Anaconda3\\lib\\site-packages\\numpy\\.libs\\libopenblas.FB5AE2TYXYH2IJRDKGDGQ3XBKLKTF43H.gfortran-win_amd64.dll\n",
      "C:\\Users\\SiFuBrO\\Anaconda3\\lib\\site-packages\\numpy\\.libs\\libopenblas.WCDJNK7YVMPZQ2ME2ZZHJJRJ3JIKNDB7.gfortran-win_amd64.dll\n",
      "  warnings.warn(\"loaded more than 1 DLL from .libs:\"\n"
     ]
    }
   ],
   "source": [
    "import numpy as np\n",
    "import pandas as pd"
   ]
  },
  {
   "cell_type": "code",
   "execution_count": 2,
   "id": "f130c972",
   "metadata": {},
   "outputs": [
    {
     "data": {
      "text/plain": [
       "(1000, 24, 24, 3)"
      ]
     },
     "execution_count": 2,
     "metadata": {},
     "output_type": "execute_result"
    }
   ],
   "source": [
    "x = np.random.random([1000, 24, 24, 3])\n",
    "x.shape"
   ]
  },
  {
   "cell_type": "code",
   "execution_count": 3,
   "id": "b2a24a5d",
   "metadata": {},
   "outputs": [
    {
     "data": {
      "text/plain": [
       "(1000, 1)"
      ]
     },
     "execution_count": 3,
     "metadata": {},
     "output_type": "execute_result"
    }
   ],
   "source": [
    "y = (np.random.random([1000,1]) > 0.5).astype(int)\n",
    "y.shape"
   ]
  },
  {
   "cell_type": "code",
   "execution_count": 4,
   "id": "4e94c076",
   "metadata": {},
   "outputs": [
    {
     "data": {
      "text/plain": [
       "array([[1],\n",
       "       [0],\n",
       "       [0],\n",
       "       [0],\n",
       "       [1]])"
      ]
     },
     "execution_count": 4,
     "metadata": {},
     "output_type": "execute_result"
    }
   ],
   "source": [
    "y[:5]"
   ]
  },
  {
   "cell_type": "markdown",
   "id": "9d6f1ef9",
   "metadata": {},
   "source": [
    "### Create a sequence of this"
   ]
  },
  {
   "cell_type": "code",
   "execution_count": null,
   "id": "90f6512c",
   "metadata": {},
   "outputs": [],
   "source": []
  },
  {
   "cell_type": "code",
   "execution_count": null,
   "id": "eb3d0400",
   "metadata": {},
   "outputs": [],
   "source": []
  },
  {
   "cell_type": "code",
   "execution_count": null,
   "id": "b576a4ce",
   "metadata": {},
   "outputs": [],
   "source": []
  },
  {
   "cell_type": "code",
   "execution_count": null,
   "id": "9aff222f",
   "metadata": {},
   "outputs": [],
   "source": []
  },
  {
   "cell_type": "code",
   "execution_count": null,
   "id": "9ea28501",
   "metadata": {},
   "outputs": [],
   "source": []
  },
  {
   "cell_type": "markdown",
   "id": "d86b8c17",
   "metadata": {},
   "source": [
    "### Infinite iteration"
   ]
  },
  {
   "cell_type": "code",
   "execution_count": 11,
   "id": "973c89d6",
   "metadata": {},
   "outputs": [],
   "source": [
    "class Square:\n",
    "    \n",
    "    def __init__(self, n= None):\n",
    "        self.i = 0\n",
    "        self.terminal = n\n",
    "        \n",
    "    def next_item(self):\n",
    "        if (self.terminal is not None) and (self.i >= self.terminal):\n",
    "            raise StopIteration(f\"Out of bounds. You have reached the {self.terminal}-th item\")\n",
    "            \n",
    "        result = self.i ** 2\n",
    "        self.i += 1\n",
    "        return result\n",
    "    \n",
    "    "
   ]
  },
  {
   "cell_type": "markdown",
   "id": "c648aa52",
   "metadata": {},
   "source": [
    "### `Problem 1:` collection is infinite, but I can solve this easily by using self.terminal"
   ]
  },
  {
   "cell_type": "code",
   "execution_count": 13,
   "id": "ff1f56e4",
   "metadata": {},
   "outputs": [
    {
     "name": "stdout",
     "output_type": "stream",
     "text": [
      "0\n",
      "1\n",
      "4\n",
      "9\n",
      "16\n",
      "25\n",
      "36\n",
      "49\n",
      "64\n",
      "81\n"
     ]
    }
   ],
   "source": [
    "sq = Square()\n",
    "\n",
    "cnt=0\n",
    "while True:\n",
    "    print(sq.next_item())\n",
    "    cnt+=1\n",
    "    if cnt == 10:\n",
    "        break"
   ]
  },
  {
   "cell_type": "code",
   "execution_count": 14,
   "id": "1abd1a89",
   "metadata": {},
   "outputs": [
    {
     "name": "stdout",
     "output_type": "stream",
     "text": [
      "0\n",
      "1\n",
      "4\n",
      "9\n",
      "16\n",
      "25\n"
     ]
    },
    {
     "ename": "StopIteration",
     "evalue": "Out of bounds. You have reached the 6-th item",
     "output_type": "error",
     "traceback": [
      "\u001b[1;31m---------------------------------------------------------------------------\u001b[0m",
      "\u001b[1;31mStopIteration\u001b[0m                             Traceback (most recent call last)",
      "Input \u001b[1;32mIn [14]\u001b[0m, in \u001b[0;36m<cell line: 4>\u001b[1;34m()\u001b[0m\n\u001b[0;32m      1\u001b[0m sq \u001b[38;5;241m=\u001b[39m Square(\u001b[38;5;241m6\u001b[39m)\n\u001b[0;32m      3\u001b[0m \u001b[38;5;28;01mwhile\u001b[39;00m \u001b[38;5;28;01mTrue\u001b[39;00m:\n\u001b[1;32m----> 4\u001b[0m     \u001b[38;5;28mprint\u001b[39m(\u001b[43msq\u001b[49m\u001b[38;5;241;43m.\u001b[39;49m\u001b[43mnext_item\u001b[49m\u001b[43m(\u001b[49m\u001b[43m)\u001b[49m)\n",
      "Input \u001b[1;32mIn [11]\u001b[0m, in \u001b[0;36mSquare.next_item\u001b[1;34m(self)\u001b[0m\n\u001b[0;32m      7\u001b[0m \u001b[38;5;28;01mdef\u001b[39;00m \u001b[38;5;21mnext_item\u001b[39m(\u001b[38;5;28mself\u001b[39m):\n\u001b[0;32m      8\u001b[0m     \u001b[38;5;28;01mif\u001b[39;00m (\u001b[38;5;28mself\u001b[39m\u001b[38;5;241m.\u001b[39mterminal \u001b[38;5;129;01mis\u001b[39;00m \u001b[38;5;129;01mnot\u001b[39;00m \u001b[38;5;28;01mNone\u001b[39;00m) \u001b[38;5;129;01mand\u001b[39;00m (\u001b[38;5;28mself\u001b[39m\u001b[38;5;241m.\u001b[39mi \u001b[38;5;241m>\u001b[39m\u001b[38;5;241m=\u001b[39m \u001b[38;5;28mself\u001b[39m\u001b[38;5;241m.\u001b[39mterminal):\n\u001b[1;32m----> 9\u001b[0m         \u001b[38;5;28;01mraise\u001b[39;00m \u001b[38;5;167;01mStopIteration\u001b[39;00m(\u001b[38;5;124mf\u001b[39m\u001b[38;5;124m\"\u001b[39m\u001b[38;5;124mOut of bounds. You have reached the \u001b[39m\u001b[38;5;132;01m{\u001b[39;00m\u001b[38;5;28mself\u001b[39m\u001b[38;5;241m.\u001b[39mterminal\u001b[38;5;132;01m}\u001b[39;00m\u001b[38;5;124m-th item\u001b[39m\u001b[38;5;124m\"\u001b[39m)\n\u001b[0;32m     11\u001b[0m     result \u001b[38;5;241m=\u001b[39m \u001b[38;5;28mself\u001b[39m\u001b[38;5;241m.\u001b[39mi \u001b[38;5;241m*\u001b[39m\u001b[38;5;241m*\u001b[39m \u001b[38;5;241m2\u001b[39m\n\u001b[0;32m     12\u001b[0m     \u001b[38;5;28mself\u001b[39m\u001b[38;5;241m.\u001b[39mi \u001b[38;5;241m+\u001b[39m\u001b[38;5;241m=\u001b[39m \u001b[38;5;241m1\u001b[39m\n",
      "\u001b[1;31mStopIteration\u001b[0m: Out of bounds. You have reached the 6-th item"
     ]
    }
   ],
   "source": [
    "sq = Square(6)\n",
    "\n",
    "while True:\n",
    "    print(sq.next_item())"
   ]
  },
  {
   "cell_type": "markdown",
   "id": "cc3398b9",
   "metadata": {},
   "source": [
    "### `Problem 2:` Cannot restart from the beginning! It gets exhausted\n",
    "(we need to initialize again which is not practical!)"
   ]
  },
  {
   "cell_type": "code",
   "execution_count": 15,
   "id": "16e74558",
   "metadata": {},
   "outputs": [
    {
     "ename": "StopIteration",
     "evalue": "Out of bounds. You have reached the 6-th item",
     "output_type": "error",
     "traceback": [
      "\u001b[1;31m---------------------------------------------------------------------------\u001b[0m",
      "\u001b[1;31mStopIteration\u001b[0m                             Traceback (most recent call last)",
      "Input \u001b[1;32mIn [15]\u001b[0m, in \u001b[0;36m<cell line: 2>\u001b[1;34m()\u001b[0m\n\u001b[0;32m      1\u001b[0m \u001b[38;5;28;01mwhile\u001b[39;00m \u001b[38;5;28;01mTrue\u001b[39;00m:\n\u001b[1;32m----> 2\u001b[0m     \u001b[38;5;28mprint\u001b[39m(\u001b[43msq\u001b[49m\u001b[38;5;241;43m.\u001b[39;49m\u001b[43mnext_item\u001b[49m\u001b[43m(\u001b[49m\u001b[43m)\u001b[49m)\n",
      "Input \u001b[1;32mIn [11]\u001b[0m, in \u001b[0;36mSquare.next_item\u001b[1;34m(self)\u001b[0m\n\u001b[0;32m      7\u001b[0m \u001b[38;5;28;01mdef\u001b[39;00m \u001b[38;5;21mnext_item\u001b[39m(\u001b[38;5;28mself\u001b[39m):\n\u001b[0;32m      8\u001b[0m     \u001b[38;5;28;01mif\u001b[39;00m (\u001b[38;5;28mself\u001b[39m\u001b[38;5;241m.\u001b[39mterminal \u001b[38;5;129;01mis\u001b[39;00m \u001b[38;5;129;01mnot\u001b[39;00m \u001b[38;5;28;01mNone\u001b[39;00m) \u001b[38;5;129;01mand\u001b[39;00m (\u001b[38;5;28mself\u001b[39m\u001b[38;5;241m.\u001b[39mi \u001b[38;5;241m>\u001b[39m\u001b[38;5;241m=\u001b[39m \u001b[38;5;28mself\u001b[39m\u001b[38;5;241m.\u001b[39mterminal):\n\u001b[1;32m----> 9\u001b[0m         \u001b[38;5;28;01mraise\u001b[39;00m \u001b[38;5;167;01mStopIteration\u001b[39;00m(\u001b[38;5;124mf\u001b[39m\u001b[38;5;124m\"\u001b[39m\u001b[38;5;124mOut of bounds. You have reached the \u001b[39m\u001b[38;5;132;01m{\u001b[39;00m\u001b[38;5;28mself\u001b[39m\u001b[38;5;241m.\u001b[39mterminal\u001b[38;5;132;01m}\u001b[39;00m\u001b[38;5;124m-th item\u001b[39m\u001b[38;5;124m\"\u001b[39m)\n\u001b[0;32m     11\u001b[0m     result \u001b[38;5;241m=\u001b[39m \u001b[38;5;28mself\u001b[39m\u001b[38;5;241m.\u001b[39mi \u001b[38;5;241m*\u001b[39m\u001b[38;5;241m*\u001b[39m \u001b[38;5;241m2\u001b[39m\n\u001b[0;32m     12\u001b[0m     \u001b[38;5;28mself\u001b[39m\u001b[38;5;241m.\u001b[39mi \u001b[38;5;241m+\u001b[39m\u001b[38;5;241m=\u001b[39m \u001b[38;5;241m1\u001b[39m\n",
      "\u001b[1;31mStopIteration\u001b[0m: Out of bounds. You have reached the 6-th item"
     ]
    }
   ],
   "source": [
    "while True:\n",
    "    print(sq.next_item())"
   ]
  },
  {
   "cell_type": "code",
   "execution_count": null,
   "id": "74f2aff4",
   "metadata": {},
   "outputs": [],
   "source": []
  },
  {
   "cell_type": "code",
   "execution_count": null,
   "id": "eb4b44eb",
   "metadata": {},
   "outputs": [],
   "source": []
  },
  {
   "cell_type": "markdown",
   "id": "b4cd42e8",
   "metadata": {},
   "source": [
    "### `Problem 3`: cannot use a for loop or comprehension to loop through the items"
   ]
  },
  {
   "cell_type": "code",
   "execution_count": 16,
   "id": "5cb17e8c",
   "metadata": {},
   "outputs": [],
   "source": [
    "class Square:\n",
    "    \n",
    "    def __init__(self, n= None):\n",
    "        self.i = 0\n",
    "        self.terminal = n\n",
    "        \n",
    "    def __next__(self):\n",
    "        if (self.terminal is not None) and (self.i >= self.terminal):\n",
    "            raise StopIteration(f\"Out of bounds. You have reached the {self.terminal}-th item\")\n",
    "            \n",
    "        result = self.i ** 2\n",
    "        self.i += 1\n",
    "        return result"
   ]
  },
  {
   "cell_type": "code",
   "execution_count": 17,
   "id": "b44a935a",
   "metadata": {},
   "outputs": [
    {
     "name": "stdout",
     "output_type": "stream",
     "text": [
      "0\n",
      "1\n",
      "4\n",
      "9\n",
      "16\n",
      "25\n"
     ]
    },
    {
     "ename": "StopIteration",
     "evalue": "Out of bounds. You have reached the 6-th item",
     "output_type": "error",
     "traceback": [
      "\u001b[1;31m---------------------------------------------------------------------------\u001b[0m",
      "\u001b[1;31mStopIteration\u001b[0m                             Traceback (most recent call last)",
      "Input \u001b[1;32mIn [17]\u001b[0m, in \u001b[0;36m<cell line: 4>\u001b[1;34m()\u001b[0m\n\u001b[0;32m      1\u001b[0m sq \u001b[38;5;241m=\u001b[39m Square(\u001b[38;5;241m6\u001b[39m)\n\u001b[0;32m      3\u001b[0m \u001b[38;5;28;01mwhile\u001b[39;00m \u001b[38;5;28;01mTrue\u001b[39;00m:\n\u001b[1;32m----> 4\u001b[0m     \u001b[38;5;28mprint\u001b[39m(\u001b[38;5;28;43mnext\u001b[39;49m\u001b[43m(\u001b[49m\u001b[43msq\u001b[49m\u001b[43m)\u001b[49m)\n",
      "Input \u001b[1;32mIn [16]\u001b[0m, in \u001b[0;36mSquare.__next__\u001b[1;34m(self)\u001b[0m\n\u001b[0;32m      7\u001b[0m \u001b[38;5;28;01mdef\u001b[39;00m \u001b[38;5;21m__next__\u001b[39m(\u001b[38;5;28mself\u001b[39m):\n\u001b[0;32m      8\u001b[0m     \u001b[38;5;28;01mif\u001b[39;00m (\u001b[38;5;28mself\u001b[39m\u001b[38;5;241m.\u001b[39mterminal \u001b[38;5;129;01mis\u001b[39;00m \u001b[38;5;129;01mnot\u001b[39;00m \u001b[38;5;28;01mNone\u001b[39;00m) \u001b[38;5;129;01mand\u001b[39;00m (\u001b[38;5;28mself\u001b[39m\u001b[38;5;241m.\u001b[39mi \u001b[38;5;241m>\u001b[39m\u001b[38;5;241m=\u001b[39m \u001b[38;5;28mself\u001b[39m\u001b[38;5;241m.\u001b[39mterminal):\n\u001b[1;32m----> 9\u001b[0m         \u001b[38;5;28;01mraise\u001b[39;00m \u001b[38;5;167;01mStopIteration\u001b[39;00m(\u001b[38;5;124mf\u001b[39m\u001b[38;5;124m\"\u001b[39m\u001b[38;5;124mOut of bounds. You have reached the \u001b[39m\u001b[38;5;132;01m{\u001b[39;00m\u001b[38;5;28mself\u001b[39m\u001b[38;5;241m.\u001b[39mterminal\u001b[38;5;132;01m}\u001b[39;00m\u001b[38;5;124m-th item\u001b[39m\u001b[38;5;124m\"\u001b[39m)\n\u001b[0;32m     11\u001b[0m     result \u001b[38;5;241m=\u001b[39m \u001b[38;5;28mself\u001b[39m\u001b[38;5;241m.\u001b[39mi \u001b[38;5;241m*\u001b[39m\u001b[38;5;241m*\u001b[39m \u001b[38;5;241m2\u001b[39m\n\u001b[0;32m     12\u001b[0m     \u001b[38;5;28mself\u001b[39m\u001b[38;5;241m.\u001b[39mi \u001b[38;5;241m+\u001b[39m\u001b[38;5;241m=\u001b[39m \u001b[38;5;241m1\u001b[39m\n",
      "\u001b[1;31mStopIteration\u001b[0m: Out of bounds. You have reached the 6-th item"
     ]
    }
   ],
   "source": [
    "sq = Square(6)\n",
    "\n",
    "while True:\n",
    "    print(next(sq))"
   ]
  },
  {
   "cell_type": "markdown",
   "id": "5bc85b27",
   "metadata": {},
   "source": [
    "## ITERATORS"
   ]
  },
  {
   "cell_type": "markdown",
   "id": "43810a16",
   "metadata": {},
   "source": [
    "### Lets tackle problem with loop (so we can use for loop and comprehensions)"
   ]
  },
  {
   "cell_type": "markdown",
   "id": "79a7560f",
   "metadata": {},
   "source": [
    "###  Iterator protocol\n",
    "- `__iter__` : return object itself\n",
    "- `__next__` : returns next item"
   ]
  },
  {
   "cell_type": "code",
   "execution_count": 29,
   "id": "29d928e4",
   "metadata": {},
   "outputs": [],
   "source": [
    "class SquareIterator:\n",
    "    \n",
    "    def __init__(self, n= None):\n",
    "        self.i = 0\n",
    "        self.terminal = n\n",
    "        \n",
    "    def __next__(self):\n",
    "        print(\"__next__ called\")\n",
    "        if (self.terminal is not None) and (self.i >= self.terminal):\n",
    "            raise StopIteration(f\"Out of bounds. You have reached the {self.terminal}-th item\")\n",
    "            \n",
    "        result = self.i ** 2\n",
    "        self.i += 1\n",
    "        return result\n",
    "    \n",
    "    def __iter__(self):\n",
    "        print(\"__iter__ called\")\n",
    "        # This is called first and then __next__ only each time until StopIteration is reached\n",
    "        return self"
   ]
  },
  {
   "cell_type": "markdown",
   "id": "3f0ec219",
   "metadata": {},
   "source": [
    "### Now we can use a `for` loop :)"
   ]
  },
  {
   "cell_type": "code",
   "execution_count": 30,
   "id": "c8fa2756",
   "metadata": {},
   "outputs": [
    {
     "name": "stdout",
     "output_type": "stream",
     "text": [
      "__iter__ called\n",
      "__next__ called\n",
      "0\n",
      "__next__ called\n",
      "1\n",
      "__next__ called\n",
      "4\n",
      "__next__ called\n",
      "9\n",
      "__next__ called\n",
      "16\n",
      "__next__ called\n",
      "25\n",
      "__next__ called\n"
     ]
    }
   ],
   "source": [
    "sq = SquareIterator(6)\n",
    "\n",
    "for item in sq:\n",
    "    print(item)"
   ]
  },
  {
   "cell_type": "code",
   "execution_count": 31,
   "id": "1e0f2259",
   "metadata": {},
   "outputs": [
    {
     "name": "stdout",
     "output_type": "stream",
     "text": [
      "__next__ called\n",
      "0\n",
      "__next__ called\n",
      "1\n",
      "__next__ called\n",
      "4\n",
      "__next__ called\n",
      "9\n",
      "__next__ called\n",
      "16\n",
      "__next__ called\n",
      "25\n",
      "__next__ called\n"
     ]
    }
   ],
   "source": [
    "## the for loop is equivalent to this while loop\n",
    "\n",
    "sq = SquareIterator(6)\n",
    "\n",
    "while True:\n",
    "    try:\n",
    "        item = next(sq)\n",
    "        print(item)\n",
    "    except StopIteration:\n",
    "        break"
   ]
  },
  {
   "cell_type": "markdown",
   "id": "fc6d3416",
   "metadata": {},
   "source": [
    "### This is what happens under the hood"
   ]
  },
  {
   "cell_type": "code",
   "execution_count": 35,
   "id": "2e527733",
   "metadata": {},
   "outputs": [
    {
     "name": "stdout",
     "output_type": "stream",
     "text": [
      "__iter__ called\n",
      "2250523465376 2250523465376\n",
      "__next__ called\n",
      "0\n",
      "__next__ called\n",
      "1\n",
      "__next__ called\n",
      "4\n",
      "__next__ called\n",
      "9\n",
      "__next__ called\n",
      "16\n",
      "__next__ called\n",
      "25\n",
      "__next__ called\n"
     ]
    }
   ],
   "source": [
    "## the for loop is equivalent to this while loop\n",
    "\n",
    "sq = SquareIterator(6)\n",
    "sq_iterator = iter(sq) #sq_iterator will be the same as sq\n",
    "\n",
    "print(id(sq_iterator), id(sq))\n",
    "\n",
    "while True:\n",
    "    try:\n",
    "        item = next(sq_iterator)\n",
    "        print(item)\n",
    "    except StopIteration:\n",
    "        break"
   ]
  },
  {
   "cell_type": "code",
   "execution_count": 32,
   "id": "3ec9f7a0",
   "metadata": {},
   "outputs": [
    {
     "name": "stdout",
     "output_type": "stream",
     "text": [
      "__iter__ called\n",
      "__next__ called\n",
      "__next__ called\n",
      "__next__ called\n",
      "__next__ called\n",
      "__next__ called\n",
      "__next__ called\n",
      "__next__ called\n"
     ]
    },
    {
     "data": {
      "text/plain": [
       "[0, 1, 4, 9, 16, 25]"
      ]
     },
     "execution_count": 32,
     "metadata": {},
     "output_type": "execute_result"
    }
   ],
   "source": [
    "sq_list = [item for item in SquareIterator(6)]\n",
    "sq_list"
   ]
  },
  {
   "cell_type": "code",
   "execution_count": 33,
   "id": "79691603",
   "metadata": {},
   "outputs": [
    {
     "name": "stdout",
     "output_type": "stream",
     "text": [
      "__iter__ called\n",
      "__next__ called\n",
      "__next__ called\n",
      "__next__ called\n",
      "__next__ called\n",
      "__next__ called\n",
      "__next__ called\n",
      "__next__ called\n"
     ]
    },
    {
     "data": {
      "text/plain": [
       "[(0, 0), (1, 1), (2, 4), (3, 9), (4, 16), (5, 25)]"
      ]
     },
     "execution_count": 33,
     "metadata": {},
     "output_type": "execute_result"
    }
   ],
   "source": [
    "list(enumerate(SquareIterator(6)))"
   ]
  },
  {
   "cell_type": "code",
   "execution_count": 34,
   "id": "d9fa96f3",
   "metadata": {},
   "outputs": [
    {
     "name": "stdout",
     "output_type": "stream",
     "text": [
      "__iter__ called\n",
      "__next__ called\n",
      "__next__ called\n",
      "__next__ called\n",
      "__next__ called\n",
      "__next__ called\n",
      "__next__ called\n",
      "__next__ called\n"
     ]
    },
    {
     "data": {
      "text/plain": [
       "[25, 16, 9, 4, 1, 0]"
      ]
     },
     "execution_count": 34,
     "metadata": {},
     "output_type": "execute_result"
    }
   ],
   "source": [
    "sq = SquareIterator(6)\n",
    "\n",
    "sorted(sq, reverse=True)"
   ]
  },
  {
   "cell_type": "markdown",
   "id": "0337c9d6",
   "metadata": {},
   "source": [
    "### `Problem:` It has been exhausted! It cannot be restarted!!"
   ]
  },
  {
   "cell_type": "code",
   "execution_count": 25,
   "id": "a1d73afc",
   "metadata": {},
   "outputs": [],
   "source": [
    "for item in sq:\n",
    "    print(item)"
   ]
  },
  {
   "cell_type": "markdown",
   "id": "42bc3152",
   "metadata": {},
   "source": [
    "### Iterators & Iterables"
   ]
  },
  {
   "cell_type": "markdown",
   "id": "9bfd5c1c",
   "metadata": {},
   "source": [
    "### Seperate the \n",
    "- maintaining the collection of items (the container)  --> `iterable` created once and maintains data\n",
    "- iterating over the collection  --> `iterator` (throw away objects) created every time we need fresh iteration"
   ]
  },
  {
   "cell_type": "code",
   "execution_count": 36,
   "id": "971cfe25",
   "metadata": {},
   "outputs": [],
   "source": [
    "class Cities:\n",
    "    '''\n",
    "    Cities instances are iterators!\n",
    "    '''\n",
    "    def __init__(self):\n",
    "        # This is wasteful if we have many instances\n",
    "        self._cities = [\"Paris\", \"Rome\", \"London\", \"Greece\"]\n",
    "        self._index = 0\n",
    "        \n",
    "    def __iter__(self):\n",
    "        # return instance of cities\n",
    "        return self\n",
    "    \n",
    "    def __next__(self):\n",
    "        # do the iteration\n",
    "        if self._index >= len(self._cities):\n",
    "            raise StopIteration\n",
    "        \n",
    "        item = self._cities[self._index]\n",
    "        self._index +=1\n",
    "        return item"
   ]
  },
  {
   "cell_type": "code",
   "execution_count": 37,
   "id": "14688069",
   "metadata": {},
   "outputs": [
    {
     "name": "stdout",
     "output_type": "stream",
     "text": [
      "Paris\n",
      "Rome\n",
      "London\n",
      "Greece\n"
     ]
    }
   ],
   "source": [
    "city = Cities()\n",
    "for item in city:\n",
    "    print(item)"
   ]
  },
  {
   "cell_type": "code",
   "execution_count": 38,
   "id": "e5518237",
   "metadata": {},
   "outputs": [],
   "source": [
    "for item in city:\n",
    "    print(item)"
   ]
  },
  {
   "cell_type": "markdown",
   "id": "ef0a08ad",
   "metadata": {},
   "source": [
    "### Better way"
   ]
  },
  {
   "cell_type": "code",
   "execution_count": 46,
   "id": "08e20f96",
   "metadata": {},
   "outputs": [],
   "source": [
    "class Cities:\n",
    "\n",
    "    def __init__(self):\n",
    "        # This is wasteful if we have many instances\n",
    "        self._cities = [\"Paris\", \"Rome\", \"London\", \"Greece\"]\n",
    "        \n",
    "        \n",
    "    def __len__(self):\n",
    "        return len(self._cities)\n",
    "    \n",
    "    def __getitem__(self, n):\n",
    "        return self._cities[n]\n",
    "    \n",
    "    \n",
    "class CityIterator:\n",
    "    \n",
    "    def __init__(self, cities): # pass cities instance (instance of class Cities)\n",
    "        self._cities = cities\n",
    "        self._index = 0\n",
    "        \n",
    "    def __iter__(self):\n",
    "        # return instance of cities Iterator\n",
    "        return self\n",
    "    \n",
    "    def __next__(self):\n",
    "        # do the iteration\n",
    "        if self._index >= len(self._cities):\n",
    "            raise StopIteration\n",
    "        \n",
    "        item = self._cities[self._index]\n",
    "        self._index +=1\n",
    "        return item"
   ]
  },
  {
   "cell_type": "code",
   "execution_count": 47,
   "id": "4079c04a",
   "metadata": {},
   "outputs": [
    {
     "name": "stdout",
     "output_type": "stream",
     "text": [
      "Paris\n",
      "Rome\n",
      "London\n",
      "Greece\n"
     ]
    }
   ],
   "source": [
    "cities = Cities()\n",
    "\n",
    "city_iterator = CityIterator(cities)\n",
    "\n",
    "for city in city_iterator:\n",
    "    print(city)"
   ]
  },
  {
   "cell_type": "code",
   "execution_count": null,
   "id": "782224b6",
   "metadata": {},
   "outputs": [],
   "source": [
    "for city in city_iterator:\n",
    "    print(city)"
   ]
  },
  {
   "cell_type": "code",
   "execution_count": 48,
   "id": "46a5b659",
   "metadata": {},
   "outputs": [
    {
     "name": "stdout",
     "output_type": "stream",
     "text": [
      "Paris\n",
      "Rome\n",
      "London\n",
      "Greece\n"
     ]
    }
   ],
   "source": [
    "# We don't have to create the instace again, just the iterator\n",
    "city_iterator = CityIterator(cities)\n",
    "\n",
    "for city in city_iterator:\n",
    "    print(city)"
   ]
  },
  {
   "cell_type": "code",
   "execution_count": 51,
   "id": "1e68d63a",
   "metadata": {},
   "outputs": [],
   "source": [
    "class Cities:\n",
    "    '''\n",
    "    Cities instances are ITERABLES, it only implements the __iter__()\n",
    "    '''\n",
    "    def __init__(self):\n",
    "        # This is wasteful if we have many instances\n",
    "        self._cities = [\"Paris\", \"Rome\", \"London\", \"Greece\"]\n",
    "        \n",
    "    def __len__(self):\n",
    "        return len(self._cities)\n",
    "    \n",
    "    def __iter__(self):\n",
    "        # create an iterator and return it \n",
    "        # return instance of cities Iterator\n",
    "        return CityIterator(self) # need to pass self, because __init__of CityIterator needs the cities object!\n",
    "    \n",
    "    \n",
    "class CityIterator:\n",
    "    \n",
    "    def __init__(self, cities): # pass cities instance (instance of class Cities)\n",
    "        self._cities = cities\n",
    "        self._index = 0\n",
    "        \n",
    "    def __iter__(self):\n",
    "        # return instance of cities Iterator\n",
    "        return self\n",
    "    \n",
    "    def __next__(self):\n",
    "        # do the iteration\n",
    "        if self._index >= len(self._cities):\n",
    "            raise StopIteration\n",
    "        \n",
    "        item = self._cities._cities[self._index]\n",
    "        self._index +=1\n",
    "        return item"
   ]
  },
  {
   "cell_type": "code",
   "execution_count": 52,
   "id": "6bbdcffa",
   "metadata": {},
   "outputs": [
    {
     "name": "stdout",
     "output_type": "stream",
     "text": [
      "Paris\n",
      "Rome\n",
      "London\n",
      "Greece\n"
     ]
    }
   ],
   "source": [
    "cities = Cities()\n",
    "\n",
    "for city in cities:\n",
    "    print(city)"
   ]
  },
  {
   "cell_type": "code",
   "execution_count": 53,
   "id": "9174aca8",
   "metadata": {},
   "outputs": [
    {
     "name": "stdout",
     "output_type": "stream",
     "text": [
      "Paris\n",
      "Rome\n",
      "London\n",
      "Greece\n"
     ]
    }
   ],
   "source": [
    "for city in cities:\n",
    "    print(city)"
   ]
  },
  {
   "cell_type": "code",
   "execution_count": null,
   "id": "84ecf536",
   "metadata": {},
   "outputs": [],
   "source": []
  },
  {
   "cell_type": "code",
   "execution_count": null,
   "id": "3ed18af7",
   "metadata": {},
   "outputs": [],
   "source": []
  },
  {
   "cell_type": "code",
   "execution_count": null,
   "id": "e3869a3e",
   "metadata": {},
   "outputs": [],
   "source": []
  },
  {
   "cell_type": "code",
   "execution_count": null,
   "id": "01cd059a",
   "metadata": {},
   "outputs": [],
   "source": []
  },
  {
   "cell_type": "code",
   "execution_count": null,
   "id": "eaed661c",
   "metadata": {},
   "outputs": [],
   "source": []
  },
  {
   "cell_type": "markdown",
   "id": "a3ba7935",
   "metadata": {},
   "source": [
    "### Lazy evaluation"
   ]
  },
  {
   "cell_type": "markdown",
   "id": "47db161a",
   "metadata": {},
   "source": [
    "# LEFT AT 02:12 at `2.4.12` and `2.4.14`"
   ]
  },
  {
   "cell_type": "code",
   "execution_count": null,
   "id": "380e3662",
   "metadata": {},
   "outputs": [],
   "source": []
  },
  {
   "cell_type": "code",
   "execution_count": null,
   "id": "3dd77dd4",
   "metadata": {},
   "outputs": [],
   "source": []
  },
  {
   "cell_type": "code",
   "execution_count": null,
   "id": "57d6ec98",
   "metadata": {},
   "outputs": [],
   "source": []
  },
  {
   "cell_type": "code",
   "execution_count": null,
   "id": "1b504a76",
   "metadata": {},
   "outputs": [],
   "source": []
  },
  {
   "cell_type": "code",
   "execution_count": null,
   "id": "8a171495",
   "metadata": {},
   "outputs": [],
   "source": []
  },
  {
   "cell_type": "markdown",
   "id": "59462197",
   "metadata": {},
   "source": [
    "### Create a generator of this to yield items efficiently"
   ]
  },
  {
   "cell_type": "code",
   "execution_count": null,
   "id": "ca4557b6",
   "metadata": {},
   "outputs": [],
   "source": []
  },
  {
   "cell_type": "code",
   "execution_count": null,
   "id": "8badbf00",
   "metadata": {},
   "outputs": [],
   "source": []
  },
  {
   "cell_type": "code",
   "execution_count": null,
   "id": "a02a5c7b",
   "metadata": {},
   "outputs": [],
   "source": []
  },
  {
   "cell_type": "code",
   "execution_count": null,
   "id": "8191bd50",
   "metadata": {},
   "outputs": [],
   "source": []
  },
  {
   "cell_type": "code",
   "execution_count": null,
   "id": "003f9f20",
   "metadata": {},
   "outputs": [],
   "source": []
  },
  {
   "cell_type": "code",
   "execution_count": null,
   "id": "eae921e5",
   "metadata": {},
   "outputs": [],
   "source": []
  },
  {
   "cell_type": "code",
   "execution_count": null,
   "id": "0777b2aa",
   "metadata": {},
   "outputs": [],
   "source": []
  },
  {
   "cell_type": "code",
   "execution_count": null,
   "id": "7e027890",
   "metadata": {},
   "outputs": [],
   "source": []
  },
  {
   "cell_type": "code",
   "execution_count": null,
   "id": "6b689e49",
   "metadata": {},
   "outputs": [],
   "source": []
  },
  {
   "cell_type": "code",
   "execution_count": null,
   "id": "949ba87f",
   "metadata": {},
   "outputs": [],
   "source": []
  },
  {
   "cell_type": "code",
   "execution_count": null,
   "id": "660fda84",
   "metadata": {},
   "outputs": [],
   "source": []
  },
  {
   "cell_type": "code",
   "execution_count": null,
   "id": "bc93fc3e",
   "metadata": {},
   "outputs": [],
   "source": []
  },
  {
   "cell_type": "code",
   "execution_count": null,
   "id": "d9cdefb5",
   "metadata": {},
   "outputs": [],
   "source": []
  },
  {
   "cell_type": "code",
   "execution_count": null,
   "id": "0b11ea40",
   "metadata": {},
   "outputs": [],
   "source": []
  },
  {
   "cell_type": "code",
   "execution_count": null,
   "id": "0a24c050",
   "metadata": {},
   "outputs": [],
   "source": []
  },
  {
   "cell_type": "code",
   "execution_count": null,
   "id": "bf0efd1d",
   "metadata": {},
   "outputs": [],
   "source": []
  },
  {
   "cell_type": "code",
   "execution_count": null,
   "id": "47a2e6b8",
   "metadata": {},
   "outputs": [],
   "source": []
  },
  {
   "cell_type": "code",
   "execution_count": null,
   "id": "b6b8f19b",
   "metadata": {},
   "outputs": [],
   "source": []
  }
 ],
 "metadata": {
  "kernelspec": {
   "display_name": "Python 3 (ipykernel)",
   "language": "python",
   "name": "python3"
  },
  "language_info": {
   "codemirror_mode": {
    "name": "ipython",
    "version": 3
   },
   "file_extension": ".py",
   "mimetype": "text/x-python",
   "name": "python",
   "nbconvert_exporter": "python",
   "pygments_lexer": "ipython3",
   "version": "3.8.8"
  }
 },
 "nbformat": 4,
 "nbformat_minor": 5
}
