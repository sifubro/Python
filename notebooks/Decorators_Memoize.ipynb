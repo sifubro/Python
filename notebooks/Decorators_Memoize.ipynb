{
 "cells": [
  {
   "cell_type": "markdown",
   "id": "0a677974-ea3f-4f60-b788-1791df66dc8f",
   "metadata": {},
   "source": [
    "## Cache using Class"
   ]
  },
  {
   "cell_type": "code",
   "execution_count": 6,
   "id": "85765bd2-8612-4614-8bd2-66ec47582816",
   "metadata": {},
   "outputs": [],
   "source": [
    "class Fib:\n",
    "\n",
    "    def __init__(self):\n",
    "        self.cache = {1:1, 2:1}\n",
    "\n",
    "    def __call__(self, n):\n",
    "        try:\n",
    "            result = self.cache[n]\n",
    "        except Exception as e:\n",
    "            print(f\"Compute fib({n})\")\n",
    "            result = self(n-1) + self(n-2)\n",
    "            self.cache[n] = result\n",
    "        return result"
   ]
  },
  {
   "cell_type": "code",
   "execution_count": 7,
   "id": "3e155917-45f0-419b-8723-8c4cd869c626",
   "metadata": {},
   "outputs": [
    {
     "name": "stdout",
     "output_type": "stream",
     "text": [
      "Compute fib(10)\n",
      "Compute fib(9)\n",
      "Compute fib(8)\n",
      "Compute fib(7)\n",
      "Compute fib(6)\n",
      "Compute fib(5)\n",
      "Compute fib(4)\n",
      "Compute fib(3)\n"
     ]
    },
    {
     "data": {
      "text/plain": [
       "55"
      ]
     },
     "execution_count": 7,
     "metadata": {},
     "output_type": "execute_result"
    }
   ],
   "source": [
    "f = Fib()\n",
    "f(10)"
   ]
  },
  {
   "cell_type": "code",
   "execution_count": 8,
   "id": "2e4c50ea-fbd9-4fcb-b1e6-6a1665f75afd",
   "metadata": {},
   "outputs": [
    {
     "name": "stdout",
     "output_type": "stream",
     "text": [
      "Compute fib(12)\n",
      "Compute fib(11)\n"
     ]
    },
    {
     "data": {
      "text/plain": [
       "144"
      ]
     },
     "execution_count": 8,
     "metadata": {},
     "output_type": "execute_result"
    }
   ],
   "source": [
    "f(12)"
   ]
  },
  {
   "cell_type": "code",
   "execution_count": null,
   "id": "c1427a43-089b-4068-b907-17bdf9721ed3",
   "metadata": {},
   "outputs": [],
   "source": []
  },
  {
   "cell_type": "markdown",
   "id": "7f89375f-6d1e-4612-8512-90ccbf0c8ded",
   "metadata": {},
   "source": [
    "## Cache using closure"
   ]
  },
  {
   "cell_type": "code",
   "execution_count": 1,
   "id": "c8d0a5d6-5045-4953-8325-febd57c6aee4",
   "metadata": {},
   "outputs": [],
   "source": [
    "def fib():\n",
    "    cache = {1:1, 2:1}\n",
    "\n",
    "    def calc_fib(n):\n",
    "        if n not in cache:\n",
    "            print(f\"Calculating fib({n})\")\n",
    "            cache[n] = calc_fib(n-1) + calc_fib(n-2)\n",
    "        return cache[n]\n",
    "\n",
    "    return calc_fib"
   ]
  },
  {
   "cell_type": "code",
   "execution_count": 4,
   "id": "76b53715-9d6f-4614-b131-4d00a9e80b8f",
   "metadata": {},
   "outputs": [
    {
     "name": "stdout",
     "output_type": "stream",
     "text": [
      "Calculating fib(10)\n",
      "Calculating fib(9)\n",
      "Calculating fib(8)\n",
      "Calculating fib(7)\n",
      "Calculating fib(6)\n",
      "Calculating fib(5)\n",
      "Calculating fib(4)\n",
      "Calculating fib(3)\n"
     ]
    },
    {
     "data": {
      "text/plain": [
       "55"
      ]
     },
     "execution_count": 4,
     "metadata": {},
     "output_type": "execute_result"
    }
   ],
   "source": [
    "f = fib()\n",
    "f(10)"
   ]
  },
  {
   "cell_type": "code",
   "execution_count": 5,
   "id": "2a07b252-5012-4500-8fb6-2736fdd47b1c",
   "metadata": {},
   "outputs": [
    {
     "name": "stdout",
     "output_type": "stream",
     "text": [
      "Calculating fib(12)\n",
      "Calculating fib(11)\n"
     ]
    },
    {
     "data": {
      "text/plain": [
       "144"
      ]
     },
     "execution_count": 5,
     "metadata": {},
     "output_type": "execute_result"
    }
   ],
   "source": [
    "f(12)"
   ]
  },
  {
   "cell_type": "code",
   "execution_count": null,
   "id": "16ca6bae-abc7-465e-92cf-fd8e0aaf2065",
   "metadata": {},
   "outputs": [],
   "source": []
  },
  {
   "cell_type": "markdown",
   "id": "937ee570-d112-4a63-9c26-720d8ef49605",
   "metadata": {},
   "source": [
    "## Theo's closure & decorator"
   ]
  },
  {
   "cell_type": "code",
   "execution_count": 11,
   "id": "1e64da9d-1dfa-4209-a856-07b925900af5",
   "metadata": {},
   "outputs": [],
   "source": [
    "def fib():\n",
    "    cache = {1:1, 2:1}\n",
    "\n",
    "    def calc_fib(n):\n",
    "        try:\n",
    "            result = cache[n]\n",
    "        except Exception as e:\n",
    "            print(f\"Calculating fib({n})\")\n",
    "            result = calc_fib(n-1) + calc_fib(n-2)\n",
    "            cache[n] = result\n",
    "        return result\n",
    "\n",
    "    return calc_fib"
   ]
  },
  {
   "cell_type": "code",
   "execution_count": 12,
   "id": "f7ed8af5-f4de-4764-9411-7a26791c4cad",
   "metadata": {},
   "outputs": [
    {
     "name": "stdout",
     "output_type": "stream",
     "text": [
      "Calculating fib(10)\n",
      "Calculating fib(9)\n",
      "Calculating fib(8)\n",
      "Calculating fib(7)\n",
      "Calculating fib(6)\n",
      "Calculating fib(5)\n",
      "Calculating fib(4)\n",
      "Calculating fib(3)\n"
     ]
    },
    {
     "data": {
      "text/plain": [
       "55"
      ]
     },
     "execution_count": 12,
     "metadata": {},
     "output_type": "execute_result"
    }
   ],
   "source": [
    "# f is the calc_fib function which has cache as closure\n",
    "f = fib()\n",
    "f(10)"
   ]
  },
  {
   "cell_type": "code",
   "execution_count": 13,
   "id": "43977c57-085f-4455-bcf2-e95f1125abe2",
   "metadata": {},
   "outputs": [
    {
     "name": "stdout",
     "output_type": "stream",
     "text": [
      "Calculating fib(12)\n",
      "Calculating fib(11)\n"
     ]
    },
    {
     "data": {
      "text/plain": [
       "144"
      ]
     },
     "execution_count": 13,
     "metadata": {},
     "output_type": "execute_result"
    }
   ],
   "source": [
    "f(12)"
   ]
  },
  {
   "cell_type": "markdown",
   "id": "c6c12b5c-bfa9-4ee6-9b21-35a637ec1baa",
   "metadata": {},
   "source": [
    "### Do fib as a decorator"
   ]
  },
  {
   "cell_type": "code",
   "execution_count": 29,
   "id": "bd36dad8-fc03-48c6-955c-9191675a66a7",
   "metadata": {},
   "outputs": [],
   "source": [
    "def memoize(fib):\n",
    "    cache = {1:1, 2:1}\n",
    "\n",
    "    def inner_fib(n):\n",
    "        try:\n",
    "            result = cache[n]\n",
    "        except Exception as e:\n",
    "            result = fib(n)\n",
    "        return result\n",
    "\n",
    "    return inner_fib"
   ]
  },
  {
   "cell_type": "code",
   "execution_count": 30,
   "id": "87a21def-e1c3-4a93-92c5-fa0e3629b7e3",
   "metadata": {},
   "outputs": [
    {
     "data": {
      "text/plain": [
       "333"
      ]
     },
     "execution_count": 30,
     "metadata": {},
     "output_type": "execute_result"
    }
   ],
   "source": [
    "my_dict = {\"a\":1, \"b\":2}\n",
    "\n",
    "my_dict.get(\"c\", 333)"
   ]
  },
  {
   "cell_type": "markdown",
   "id": "94ce4182-3ca0-4bbd-b47e-b87e6a287120",
   "metadata": {},
   "source": [
    "## Caching Decorator"
   ]
  },
  {
   "cell_type": "code",
   "execution_count": 34,
   "id": "626bc5bf-c5d0-4804-9951-f91a945be82c",
   "metadata": {},
   "outputs": [],
   "source": [
    "def memoize(fib):\n",
    "    cache = {1:1, 2:1}\n",
    "\n",
    "    def inner(n):\n",
    "        if n not in cache:\n",
    "            cache[n] = fib(n)\n",
    "        return cache[n]\n",
    "        \n",
    "    return inner"
   ]
  },
  {
   "cell_type": "code",
   "execution_count": 35,
   "id": "fcb533e1-cbde-4389-8f87-0ab5b24d6235",
   "metadata": {},
   "outputs": [],
   "source": [
    "@memoize\n",
    "def fib(n):\n",
    "    print(f\"Calculating fib({n})\")\n",
    "    return 1 if n<3 else fib(n-1) + fib(n-2)"
   ]
  },
  {
   "cell_type": "code",
   "execution_count": 36,
   "id": "17ad6187-ddfb-434c-855d-8cc9c7dbb088",
   "metadata": {},
   "outputs": [
    {
     "name": "stdout",
     "output_type": "stream",
     "text": [
      "Calculating fib(10)\n",
      "Calculating fib(9)\n",
      "Calculating fib(8)\n",
      "Calculating fib(7)\n",
      "Calculating fib(6)\n",
      "Calculating fib(5)\n",
      "Calculating fib(4)\n",
      "Calculating fib(3)\n"
     ]
    },
    {
     "data": {
      "text/plain": [
       "55"
      ]
     },
     "execution_count": 36,
     "metadata": {},
     "output_type": "execute_result"
    }
   ],
   "source": [
    "fib(10)"
   ]
  },
  {
   "cell_type": "code",
   "execution_count": 37,
   "id": "a24d13a8-6187-45e4-859e-ef2b415c66bf",
   "metadata": {},
   "outputs": [
    {
     "name": "stdout",
     "output_type": "stream",
     "text": [
      "Calculating fib(12)\n",
      "Calculating fib(11)\n"
     ]
    },
    {
     "data": {
      "text/plain": [
       "144"
      ]
     },
     "execution_count": 37,
     "metadata": {},
     "output_type": "execute_result"
    }
   ],
   "source": [
    "fib(12)"
   ]
  },
  {
   "cell_type": "code",
   "execution_count": 113,
   "id": "3f0cc750-8988-4275-9178-364ed6d7b2c4",
   "metadata": {},
   "outputs": [],
   "source": [
    "def memoize(fn):\n",
    "    cache = dict()\n",
    "\n",
    "    def inner(n):\n",
    "        if n not in cache:\n",
    "            cache[n] = fn(n)\n",
    "        return cache[n]\n",
    "\n",
    "    inner.__name__ = fn.__name__\n",
    "    inner.__doc__ = fn.__doc__\n",
    "        \n",
    "    return inner"
   ]
  },
  {
   "cell_type": "code",
   "execution_count": 119,
   "id": "0b5c6b8d-7751-4197-8c1c-4369f77cdd50",
   "metadata": {},
   "outputs": [],
   "source": [
    "@memoize\n",
    "def fib(n:int=1):\n",
    "    '''Compute fibonacci sequence'''\n",
    "    print(f\"Calculating fib({n})\")\n",
    "    return 1 if n<3 else fib(n-1) + fib(n-2)"
   ]
  },
  {
   "cell_type": "code",
   "execution_count": 120,
   "id": "5d375e8c-b459-41ad-b67f-83ca4b33b802",
   "metadata": {},
   "outputs": [
    {
     "data": {
      "text/plain": [
       "'fib'"
      ]
     },
     "execution_count": 120,
     "metadata": {},
     "output_type": "execute_result"
    }
   ],
   "source": [
    "fib.__name__"
   ]
  },
  {
   "cell_type": "code",
   "execution_count": 121,
   "id": "fe6d3a0a-4915-4e6a-afbf-23bb734c9694",
   "metadata": {},
   "outputs": [
    {
     "data": {
      "text/plain": [
       "'Compute fibonacci sequence'"
      ]
     },
     "execution_count": 121,
     "metadata": {},
     "output_type": "execute_result"
    }
   ],
   "source": [
    "fib.__doc__"
   ]
  },
  {
   "cell_type": "code",
   "execution_count": 122,
   "id": "d6d27b8c-2c3e-4fa5-a0f1-9768de3b629e",
   "metadata": {},
   "outputs": [
    {
     "name": "stdout",
     "output_type": "stream",
     "text": [
      "(n)\n",
      "Parameter: n, Kind: POSITIONAL_OR_KEYWORD, Default: <class 'inspect._empty'>\n"
     ]
    }
   ],
   "source": [
    "import inspect\n",
    "\n",
    "sig = inspect.signature(fib)\n",
    "print(sig)  # (a, b: int = 10, *args, **kwargs)\n",
    "\n",
    "# Get details of each parameter\n",
    "for name, param in sig.parameters.items():\n",
    "    print(f\"Parameter: {name}, Kind: {param.kind}, Default: {param.default}\")"
   ]
  },
  {
   "cell_type": "markdown",
   "id": "47ccae99-8e8a-4aa3-8e23-67bafdf80a9e",
   "metadata": {},
   "source": [
    "### See 16:20 from 1.7.10"
   ]
  },
  {
   "cell_type": "code",
   "execution_count": 112,
   "id": "69794e5e-337b-4d42-a372-86046c42fe42",
   "metadata": {},
   "outputs": [],
   "source": [
    "from functools import wraps"
   ]
  },
  {
   "cell_type": "code",
   "execution_count": 123,
   "id": "79e8c113-204b-4875-bde4-3a52dc1797b5",
   "metadata": {},
   "outputs": [],
   "source": [
    "def memoize(fn):\n",
    "    cache = dict()\n",
    "\n",
    "    @wraps(fn)\n",
    "    def inner(n): \n",
    "        if n not in cache:\n",
    "            cache[n] = fn(n)\n",
    "        return cache[n]\n",
    "\n",
    "    #inner = wraps(fn)(inner)\n",
    "    # fixes docsting, name and signature as well!!\n",
    "        \n",
    "    return inner"
   ]
  },
  {
   "cell_type": "code",
   "execution_count": 124,
   "id": "81916c3d-37f4-4064-af90-523cdafe4bfd",
   "metadata": {},
   "outputs": [],
   "source": [
    "@memoize\n",
    "def fib(n:int=1):\n",
    "    '''Compute fibonacci sequence'''\n",
    "    print(f\"Calculating fib({n})\")\n",
    "    return 1 if n<3 else fib(n-1) + fib(n-2)"
   ]
  },
  {
   "cell_type": "code",
   "execution_count": 126,
   "id": "69b3bd48-e77a-484a-828f-4d8bcd6cf112",
   "metadata": {},
   "outputs": [
    {
     "name": "stdout",
     "output_type": "stream",
     "text": [
      "Help on function fib in module __main__:\n",
      "\n",
      "fib(n: int = 1)\n",
      "    Compute fibonacci sequence\n",
      "\n"
     ]
    }
   ],
   "source": [
    "help(fib)"
   ]
  },
  {
   "cell_type": "code",
   "execution_count": 125,
   "id": "b82d333d-9ce8-4765-b4bb-aa0bdd3ed9e2",
   "metadata": {},
   "outputs": [
    {
     "name": "stdout",
     "output_type": "stream",
     "text": [
      "(n: int = 1)\n",
      "Parameter: n, Kind: POSITIONAL_OR_KEYWORD, Default: 1\n"
     ]
    }
   ],
   "source": [
    "import inspect\n",
    "\n",
    "sig = inspect.signature(fib)\n",
    "print(sig)  # (a, b: int = 10, *args, **kwargs)\n",
    "\n",
    "# Get details of each parameter\n",
    "for name, param in sig.parameters.items():\n",
    "    print(f\"Parameter: {name}, Kind: {param.kind}, Default: {param.default}\")"
   ]
  },
  {
   "cell_type": "code",
   "execution_count": 104,
   "id": "7cd8d657-07e6-4534-80b3-67b49d530a87",
   "metadata": {},
   "outputs": [
    {
     "data": {
      "text/plain": [
       "'    def inner(n):\\n        if n not in cache:\\n            cache[n] = fn(n)\\n        return cache[n]\\n'"
      ]
     },
     "execution_count": 104,
     "metadata": {},
     "output_type": "execute_result"
    }
   ],
   "source": [
    "inspect.getsource(fib)"
   ]
  },
  {
   "cell_type": "code",
   "execution_count": 105,
   "id": "5b13b77f-b5f9-47ff-8ca7-f37b2f54e228",
   "metadata": {},
   "outputs": [
    {
     "data": {
      "text/plain": [
       "True"
      ]
     },
     "execution_count": 105,
     "metadata": {},
     "output_type": "execute_result"
    }
   ],
   "source": [
    "inspect.isfunction(fib)"
   ]
  },
  {
   "cell_type": "code",
   "execution_count": 106,
   "id": "38e3e286-547a-46ee-b4ef-5451c1c47c09",
   "metadata": {},
   "outputs": [
    {
     "data": {
      "text/plain": [
       "False"
      ]
     },
     "execution_count": 106,
     "metadata": {},
     "output_type": "execute_result"
    }
   ],
   "source": [
    "inspect.isclass(fib)"
   ]
  },
  {
   "cell_type": "code",
   "execution_count": 108,
   "id": "a14c04e5-706a-440f-a76f-4b64579605cc",
   "metadata": {},
   "outputs": [
    {
     "data": {
      "text/plain": [
       "'C:\\\\Users\\\\30694\\\\AppData\\\\Local\\\\Temp\\\\ipykernel_2612\\\\722559923.py'"
      ]
     },
     "execution_count": 108,
     "metadata": {},
     "output_type": "execute_result"
    }
   ],
   "source": [
    "inspect.getfile(fib)"
   ]
  },
  {
   "cell_type": "code",
   "execution_count": 110,
   "id": "94f63f7e-45ad-48f0-985c-1f3693892ff8",
   "metadata": {},
   "outputs": [
    {
     "data": {
      "text/plain": [
       "(['    def inner(n):\\n',\n",
       "  '        if n not in cache:\\n',\n",
       "  '            cache[n] = fn(n)\\n',\n",
       "  '        return cache[n]\\n'],\n",
       " 4)"
      ]
     },
     "execution_count": 110,
     "metadata": {},
     "output_type": "execute_result"
    }
   ],
   "source": [
    "inspect.getsourcelines(fib)"
   ]
  },
  {
   "cell_type": "code",
   "execution_count": 111,
   "id": "90776319-0e00-4a92-b12f-d65a034821ab",
   "metadata": {},
   "outputs": [
    {
     "data": {
      "text/plain": [
       "'Compute fibonacci sequence'"
      ]
     },
     "execution_count": 111,
     "metadata": {},
     "output_type": "execute_result"
    }
   ],
   "source": [
    "inspect.getdoc(fib)"
   ]
  },
  {
   "cell_type": "code",
   "execution_count": null,
   "id": "054f1dc0-1b93-4abf-8d88-9ca562bb6398",
   "metadata": {},
   "outputs": [],
   "source": []
  },
  {
   "cell_type": "code",
   "execution_count": null,
   "id": "d62859df-4ebf-4701-a2a3-c1b1233c8c4d",
   "metadata": {},
   "outputs": [],
   "source": []
  },
  {
   "cell_type": "code",
   "execution_count": 77,
   "id": "d6ae3e4d-b081-4dbd-84b3-710d85a32f74",
   "metadata": {},
   "outputs": [
    {
     "name": "stdout",
     "output_type": "stream",
     "text": [
      "Calculating fib(12)\n",
      "Calculating fib(11)\n",
      "Calculating fib(10)\n",
      "Calculating fib(9)\n",
      "Calculating fib(8)\n",
      "Calculating fib(7)\n",
      "Calculating fib(6)\n",
      "Calculating fib(5)\n",
      "Calculating fib(4)\n",
      "Calculating fib(3)\n",
      "Calculating fib(2)\n",
      "Calculating fib(1)\n"
     ]
    },
    {
     "data": {
      "text/plain": [
       "144"
      ]
     },
     "execution_count": 77,
     "metadata": {},
     "output_type": "execute_result"
    }
   ],
   "source": [
    "fib(12)"
   ]
  },
  {
   "cell_type": "code",
   "execution_count": 78,
   "id": "386b30a3-88fb-4e41-b87b-df828bb9069f",
   "metadata": {},
   "outputs": [
    {
     "name": "stdout",
     "output_type": "stream",
     "text": [
      "Calculating fib(14)\n",
      "Calculating fib(13)\n"
     ]
    },
    {
     "data": {
      "text/plain": [
       "377"
      ]
     },
     "execution_count": 78,
     "metadata": {},
     "output_type": "execute_result"
    }
   ],
   "source": [
    "fib(14)"
   ]
  },
  {
   "cell_type": "code",
   "execution_count": 79,
   "id": "5fc9abd9-c3ed-4ccc-bbd7-344c2eb9b5b3",
   "metadata": {},
   "outputs": [],
   "source": [
    "@memoize\n",
    "def fact(n):\n",
    "    print(f\"Calculating factorial({n})\")\n",
    "    return 1 if n<2 else n* fact(n-1)"
   ]
  },
  {
   "cell_type": "code",
   "execution_count": 80,
   "id": "6cb4351d-b31b-4d02-a48e-d7c2ad48a249",
   "metadata": {
    "scrolled": true
   },
   "outputs": [
    {
     "name": "stdout",
     "output_type": "stream",
     "text": [
      "Calculating fib(200)\n",
      "Calculating fib(199)\n",
      "Calculating fib(198)\n",
      "Calculating fib(197)\n",
      "Calculating fib(196)\n",
      "Calculating fib(195)\n",
      "Calculating fib(194)\n",
      "Calculating fib(193)\n",
      "Calculating fib(192)\n",
      "Calculating fib(191)\n",
      "Calculating fib(190)\n",
      "Calculating fib(189)\n",
      "Calculating fib(188)\n",
      "Calculating fib(187)\n",
      "Calculating fib(186)\n",
      "Calculating fib(185)\n",
      "Calculating fib(184)\n",
      "Calculating fib(183)\n",
      "Calculating fib(182)\n",
      "Calculating fib(181)\n",
      "Calculating fib(180)\n",
      "Calculating fib(179)\n",
      "Calculating fib(178)\n",
      "Calculating fib(177)\n",
      "Calculating fib(176)\n",
      "Calculating fib(175)\n",
      "Calculating fib(174)\n",
      "Calculating fib(173)\n",
      "Calculating fib(172)\n",
      "Calculating fib(171)\n",
      "Calculating fib(170)\n",
      "Calculating fib(169)\n",
      "Calculating fib(168)\n",
      "Calculating fib(167)\n",
      "Calculating fib(166)\n",
      "Calculating fib(165)\n",
      "Calculating fib(164)\n",
      "Calculating fib(163)\n",
      "Calculating fib(162)\n",
      "Calculating fib(161)\n",
      "Calculating fib(160)\n",
      "Calculating fib(159)\n",
      "Calculating fib(158)\n",
      "Calculating fib(157)\n",
      "Calculating fib(156)\n",
      "Calculating fib(155)\n",
      "Calculating fib(154)\n",
      "Calculating fib(153)\n",
      "Calculating fib(152)\n",
      "Calculating fib(151)\n",
      "Calculating fib(150)\n",
      "Calculating fib(149)\n",
      "Calculating fib(148)\n",
      "Calculating fib(147)\n",
      "Calculating fib(146)\n",
      "Calculating fib(145)\n",
      "Calculating fib(144)\n",
      "Calculating fib(143)\n",
      "Calculating fib(142)\n",
      "Calculating fib(141)\n",
      "Calculating fib(140)\n",
      "Calculating fib(139)\n",
      "Calculating fib(138)\n",
      "Calculating fib(137)\n",
      "Calculating fib(136)\n",
      "Calculating fib(135)\n",
      "Calculating fib(134)\n",
      "Calculating fib(133)\n",
      "Calculating fib(132)\n",
      "Calculating fib(131)\n",
      "Calculating fib(130)\n",
      "Calculating fib(129)\n",
      "Calculating fib(128)\n",
      "Calculating fib(127)\n",
      "Calculating fib(126)\n",
      "Calculating fib(125)\n",
      "Calculating fib(124)\n",
      "Calculating fib(123)\n",
      "Calculating fib(122)\n",
      "Calculating fib(121)\n",
      "Calculating fib(120)\n",
      "Calculating fib(119)\n",
      "Calculating fib(118)\n",
      "Calculating fib(117)\n",
      "Calculating fib(116)\n",
      "Calculating fib(115)\n",
      "Calculating fib(114)\n",
      "Calculating fib(113)\n",
      "Calculating fib(112)\n",
      "Calculating fib(111)\n",
      "Calculating fib(110)\n",
      "Calculating fib(109)\n",
      "Calculating fib(108)\n",
      "Calculating fib(107)\n",
      "Calculating fib(106)\n",
      "Calculating fib(105)\n",
      "Calculating fib(104)\n",
      "Calculating fib(103)\n",
      "Calculating fib(102)\n",
      "Calculating fib(101)\n",
      "Calculating fib(100)\n",
      "Calculating fib(99)\n",
      "Calculating fib(98)\n",
      "Calculating fib(97)\n",
      "Calculating fib(96)\n",
      "Calculating fib(95)\n",
      "Calculating fib(94)\n",
      "Calculating fib(93)\n",
      "Calculating fib(92)\n",
      "Calculating fib(91)\n",
      "Calculating fib(90)\n",
      "Calculating fib(89)\n",
      "Calculating fib(88)\n",
      "Calculating fib(87)\n",
      "Calculating fib(86)\n",
      "Calculating fib(85)\n",
      "Calculating fib(84)\n",
      "Calculating fib(83)\n",
      "Calculating fib(82)\n",
      "Calculating fib(81)\n",
      "Calculating fib(80)\n",
      "Calculating fib(79)\n",
      "Calculating fib(78)\n",
      "Calculating fib(77)\n",
      "Calculating fib(76)\n",
      "Calculating fib(75)\n",
      "Calculating fib(74)\n",
      "Calculating fib(73)\n",
      "Calculating fib(72)\n",
      "Calculating fib(71)\n",
      "Calculating fib(70)\n",
      "Calculating fib(69)\n",
      "Calculating fib(68)\n",
      "Calculating fib(67)\n",
      "Calculating fib(66)\n",
      "Calculating fib(65)\n",
      "Calculating fib(64)\n",
      "Calculating fib(63)\n",
      "Calculating fib(62)\n",
      "Calculating fib(61)\n",
      "Calculating fib(60)\n",
      "Calculating fib(59)\n",
      "Calculating fib(58)\n",
      "Calculating fib(57)\n",
      "Calculating fib(56)\n",
      "Calculating fib(55)\n",
      "Calculating fib(54)\n",
      "Calculating fib(53)\n",
      "Calculating fib(52)\n",
      "Calculating fib(51)\n",
      "Calculating fib(50)\n",
      "Calculating fib(49)\n",
      "Calculating fib(48)\n",
      "Calculating fib(47)\n",
      "Calculating fib(46)\n",
      "Calculating fib(45)\n",
      "Calculating fib(44)\n",
      "Calculating fib(43)\n",
      "Calculating fib(42)\n",
      "Calculating fib(41)\n",
      "Calculating fib(40)\n",
      "Calculating fib(39)\n",
      "Calculating fib(38)\n",
      "Calculating fib(37)\n",
      "Calculating fib(36)\n",
      "Calculating fib(35)\n",
      "Calculating fib(34)\n",
      "Calculating fib(33)\n",
      "Calculating fib(32)\n",
      "Calculating fib(31)\n",
      "Calculating fib(30)\n",
      "Calculating fib(29)\n",
      "Calculating fib(28)\n",
      "Calculating fib(27)\n",
      "Calculating fib(26)\n",
      "Calculating fib(25)\n",
      "Calculating fib(24)\n",
      "Calculating fib(23)\n",
      "Calculating fib(22)\n",
      "Calculating fib(21)\n",
      "Calculating fib(20)\n",
      "Calculating fib(19)\n",
      "Calculating fib(18)\n",
      "Calculating fib(17)\n",
      "Calculating fib(16)\n",
      "Calculating fib(15)\n",
      "280571172992510140037611932413038677189525\n",
      "0.001525499999843305\n"
     ]
    }
   ],
   "source": [
    "from time import perf_counter\n",
    "\n",
    "start = perf_counter()\n",
    "print(fib(200))\n",
    "end = perf_counter()\n",
    "print(end-start) # time in seconds"
   ]
  },
  {
   "cell_type": "markdown",
   "id": "06598b5a-f772-4ec7-afea-37707c89efd2",
   "metadata": {},
   "source": [
    "### Extentions\n",
    "- handle arbitrary number of args and kwargs in inner\n",
    "- limit cache size"
   ]
  },
  {
   "cell_type": "code",
   "execution_count": null,
   "id": "7c943e55-897f-475f-ab41-e08ba7674370",
   "metadata": {},
   "outputs": [],
   "source": [
    "def memoize(fn):\n",
    "    cache = dict()\n",
    "\n",
    "    def inner(*args):\n",
    "        if args not in cache:\n",
    "            cache[args] = fn(*args)\n",
    "            print(cache)\n",
    "        return cache[args]\n",
    "        \n",
    "    return inner"
   ]
  },
  {
   "cell_type": "code",
   "execution_count": null,
   "id": "550ddf2e-2806-4649-ad61-ae661a9f5e13",
   "metadata": {},
   "outputs": [],
   "source": []
  },
  {
   "cell_type": "markdown",
   "id": "44e63351-48c5-46b1-9aa0-404b9bf9b32e",
   "metadata": {},
   "source": [
    "## Least Recently Used cache"
   ]
  },
  {
   "cell_type": "code",
   "execution_count": 81,
   "id": "03ae9ccd-a67c-4cf1-9159-eb26dd754f1e",
   "metadata": {},
   "outputs": [],
   "source": [
    "from functools import lru_cache"
   ]
  },
  {
   "cell_type": "code",
   "execution_count": 83,
   "id": "a603c3cc-c92a-45d0-8285-4e552daa568d",
   "metadata": {},
   "outputs": [],
   "source": [
    "# parametrized decorator \n",
    "# by default 128 items in the cache\n",
    "@lru_cache()\n",
    "def fib(n):\n",
    "    print(f\"Calculating fib({n})\")\n",
    "    return 1 if n<3 else fib(n-1) + fib(n-2)"
   ]
  },
  {
   "cell_type": "code",
   "execution_count": 84,
   "id": "dbfce44f-1ce7-4589-865d-6d7165b72e02",
   "metadata": {},
   "outputs": [
    {
     "name": "stdout",
     "output_type": "stream",
     "text": [
      "Calculating fib(10)\n",
      "Calculating fib(9)\n",
      "Calculating fib(8)\n",
      "Calculating fib(7)\n",
      "Calculating fib(6)\n",
      "Calculating fib(5)\n",
      "Calculating fib(4)\n",
      "Calculating fib(3)\n",
      "Calculating fib(2)\n",
      "Calculating fib(1)\n"
     ]
    },
    {
     "data": {
      "text/plain": [
       "55"
      ]
     },
     "execution_count": 84,
     "metadata": {},
     "output_type": "execute_result"
    }
   ],
   "source": [
    "fib(10)"
   ]
  },
  {
   "cell_type": "code",
   "execution_count": 85,
   "id": "b8fa310e-a3b7-43c7-af45-c2c413a9f357",
   "metadata": {},
   "outputs": [
    {
     "name": "stdout",
     "output_type": "stream",
     "text": [
      "Calculating fib(12)\n",
      "Calculating fib(11)\n"
     ]
    },
    {
     "data": {
      "text/plain": [
       "144"
      ]
     },
     "execution_count": 85,
     "metadata": {},
     "output_type": "execute_result"
    }
   ],
   "source": [
    "fib(12)"
   ]
  },
  {
   "cell_type": "code",
   "execution_count": 86,
   "id": "75f0ad04-ee9e-4b46-b02a-765c777f591f",
   "metadata": {},
   "outputs": [
    {
     "data": {
      "text/plain": [
       "144"
      ]
     },
     "execution_count": 86,
     "metadata": {},
     "output_type": "execute_result"
    }
   ],
   "source": [
    "fib(12)"
   ]
  },
  {
   "cell_type": "code",
   "execution_count": 91,
   "id": "fcb4b6e9-8bdc-4314-9054-74b3b58c6a18",
   "metadata": {},
   "outputs": [],
   "source": [
    "# parametrized decorator \n",
    "# by default 128 items in the cache\n",
    "@lru_cache(maxsize=8)  # default = 128 , choose power of 2. If None then the cache is unlimited\n",
    "def fib(n):\n",
    "    print(f\"Calculating fib({n})\")\n",
    "    return 1 if n<3 else fib(n-1) + fib(n-2)"
   ]
  },
  {
   "cell_type": "code",
   "execution_count": 92,
   "id": "e931ea79-d6d7-4c2b-a53f-d54ac0e37d18",
   "metadata": {},
   "outputs": [
    {
     "name": "stdout",
     "output_type": "stream",
     "text": [
      "Calculating fib(8)\n",
      "Calculating fib(7)\n",
      "Calculating fib(6)\n",
      "Calculating fib(5)\n",
      "Calculating fib(4)\n",
      "Calculating fib(3)\n",
      "Calculating fib(2)\n",
      "Calculating fib(1)\n"
     ]
    },
    {
     "data": {
      "text/plain": [
       "21"
      ]
     },
     "execution_count": 92,
     "metadata": {},
     "output_type": "execute_result"
    }
   ],
   "source": [
    "fib(8)"
   ]
  },
  {
   "cell_type": "code",
   "execution_count": 93,
   "id": "1e175c74-1b39-47ef-a636-5e3409f97b07",
   "metadata": {},
   "outputs": [
    {
     "data": {
      "text/plain": [
       "21"
      ]
     },
     "execution_count": 93,
     "metadata": {},
     "output_type": "execute_result"
    }
   ],
   "source": [
    "fib(8)"
   ]
  },
  {
   "cell_type": "code",
   "execution_count": 90,
   "id": "5e5cbb8f-9e47-4bbf-9d15-852c843be7c9",
   "metadata": {},
   "outputs": [
    {
     "name": "stdout",
     "output_type": "stream",
     "text": [
      "Calculating fib(16)\n",
      "Calculating fib(15)\n",
      "Calculating fib(14)\n",
      "Calculating fib(13)\n",
      "Calculating fib(12)\n",
      "Calculating fib(11)\n",
      "Calculating fib(10)\n",
      "Calculating fib(9)\n"
     ]
    },
    {
     "data": {
      "text/plain": [
       "987"
      ]
     },
     "execution_count": 90,
     "metadata": {},
     "output_type": "execute_result"
    }
   ],
   "source": [
    "fib(16)"
   ]
  },
  {
   "cell_type": "code",
   "execution_count": 94,
   "id": "bed530f7-9083-4505-8b51-13fb323f9d1a",
   "metadata": {},
   "outputs": [
    {
     "name": "stdout",
     "output_type": "stream",
     "text": [
      "Calculating fib(9)\n"
     ]
    },
    {
     "data": {
      "text/plain": [
       "34"
      ]
     },
     "execution_count": 94,
     "metadata": {},
     "output_type": "execute_result"
    }
   ],
   "source": [
    "fib(9)"
   ]
  },
  {
   "cell_type": "code",
   "execution_count": 95,
   "id": "cf47192e-66e9-4b6e-9e7a-3d4055bc409a",
   "metadata": {},
   "outputs": [
    {
     "name": "stdout",
     "output_type": "stream",
     "text": [
      "Calculating fib(1)\n"
     ]
    },
    {
     "data": {
      "text/plain": [
       "1"
      ]
     },
     "execution_count": 95,
     "metadata": {},
     "output_type": "execute_result"
    }
   ],
   "source": [
    "fib(1)  # recalculating fib(1) removed from cache"
   ]
  },
  {
   "cell_type": "code",
   "execution_count": 96,
   "id": "61d2b7a1-9f5b-44aa-930d-ae490620b416",
   "metadata": {},
   "outputs": [
    {
     "name": "stdout",
     "output_type": "stream",
     "text": [
      "Calculating fib(2)\n"
     ]
    },
    {
     "data": {
      "text/plain": [
       "1"
      ]
     },
     "execution_count": 96,
     "metadata": {},
     "output_type": "execute_result"
    }
   ],
   "source": [
    "fib(2)"
   ]
  },
  {
   "cell_type": "code",
   "execution_count": null,
   "id": "2aab0a7d-068b-4855-ba74-70b1dac06f09",
   "metadata": {},
   "outputs": [],
   "source": []
  },
  {
   "cell_type": "code",
   "execution_count": null,
   "id": "6e937377-bea7-452e-aa22-9ed598e0f305",
   "metadata": {},
   "outputs": [],
   "source": []
  },
  {
   "cell_type": "code",
   "execution_count": 131,
   "id": "19c398f2-7121-4cc0-9323-35fee4e981f7",
   "metadata": {},
   "outputs": [],
   "source": [
    "def counter_a(fn):\n",
    "    count=0\n",
    "    def inner(*args, **kwargs):\n",
    "        nonlocal count\n",
    "        count+=1\n",
    "        return fn(*args, **kwargs)\n",
    "    return inner\n"
   ]
  },
  {
   "cell_type": "code",
   "execution_count": 133,
   "id": "9aa9f298-d012-4cb4-911b-0cea120a5e8b",
   "metadata": {},
   "outputs": [
    {
     "name": "stdout",
     "output_type": "stream",
     "text": [
      "Calculating fib(5)\n",
      "Calculating fib(4)\n",
      "Calculating fib(3)\n",
      "Calculating fib(2)\n",
      "Calculating fib(1)\n"
     ]
    },
    {
     "data": {
      "text/plain": [
       "5"
      ]
     },
     "execution_count": 133,
     "metadata": {},
     "output_type": "execute_result"
    }
   ],
   "source": [
    "inner = counter_a(fib)\n",
    "inner(5)"
   ]
  },
  {
   "cell_type": "code",
   "execution_count": 134,
   "id": "0d42f6dc-557b-4a74-a0c2-e0cbc9f1bc95",
   "metadata": {},
   "outputs": [
    {
     "name": "stdout",
     "output_type": "stream",
     "text": [
      "Calculating fib(7)\n",
      "Calculating fib(6)\n"
     ]
    },
    {
     "data": {
      "text/plain": [
       "13"
      ]
     },
     "execution_count": 134,
     "metadata": {},
     "output_type": "execute_result"
    }
   ],
   "source": [
    "inner(7)"
   ]
  },
  {
   "cell_type": "code",
   "execution_count": null,
   "id": "70b78528-c7b4-4439-b30c-5efebbe214cf",
   "metadata": {},
   "outputs": [],
   "source": []
  },
  {
   "cell_type": "code",
   "execution_count": 127,
   "id": "0ca6d4de-61d7-4ddb-b5fd-55d82a5015e7",
   "metadata": {},
   "outputs": [],
   "source": [
    "def counter_b(fn):\n",
    "    count=0\n",
    "    def inner(*args, **kwargs):\n",
    "        count+=1\n",
    "        return fn(*args, **kwargs)\n",
    "    return inner"
   ]
  },
  {
   "cell_type": "code",
   "execution_count": 129,
   "id": "d7c7c893-35e5-4385-be3c-a3addb6cba98",
   "metadata": {},
   "outputs": [
    {
     "ename": "UnboundLocalError",
     "evalue": "local variable 'count' referenced before assignment",
     "output_type": "error",
     "traceback": [
      "\u001b[1;31m---------------------------------------------------------------------------\u001b[0m",
      "\u001b[1;31mUnboundLocalError\u001b[0m                         Traceback (most recent call last)",
      "Cell \u001b[1;32mIn[129], line 2\u001b[0m\n\u001b[0;32m      1\u001b[0m inner \u001b[38;5;241m=\u001b[39m counter_b(fib)\n\u001b[1;32m----> 2\u001b[0m \u001b[43minner\u001b[49m\u001b[43m(\u001b[49m\u001b[43m)\u001b[49m\n",
      "Cell \u001b[1;32mIn[127], line 4\u001b[0m, in \u001b[0;36mcounter_b.<locals>.inner\u001b[1;34m(*args, **kwargs)\u001b[0m\n\u001b[0;32m      3\u001b[0m \u001b[38;5;28;01mdef\u001b[39;00m\u001b[38;5;250m \u001b[39m\u001b[38;5;21minner\u001b[39m(\u001b[38;5;241m*\u001b[39margs, \u001b[38;5;241m*\u001b[39m\u001b[38;5;241m*\u001b[39mkwargs):\n\u001b[1;32m----> 4\u001b[0m     count\u001b[38;5;241m+\u001b[39m\u001b[38;5;241m=\u001b[39m\u001b[38;5;241m1\u001b[39m\n\u001b[0;32m      5\u001b[0m     \u001b[38;5;28;01mreturn\u001b[39;00m fn(\u001b[38;5;241m*\u001b[39margs, \u001b[38;5;241m*\u001b[39m\u001b[38;5;241m*\u001b[39mkwargs)\n",
      "\u001b[1;31mUnboundLocalError\u001b[0m: local variable 'count' referenced before assignment"
     ]
    }
   ],
   "source": [
    "inner = counter_b(fib)\n",
    "inner(5)"
   ]
  },
  {
   "cell_type": "code",
   "execution_count": null,
   "id": "bc0a1345-e830-4b6c-89a7-6593eb57eacc",
   "metadata": {},
   "outputs": [],
   "source": []
  },
  {
   "cell_type": "code",
   "execution_count": null,
   "id": "5a673445-5af2-4387-8068-f57139b6e326",
   "metadata": {},
   "outputs": [],
   "source": []
  },
  {
   "cell_type": "code",
   "execution_count": null,
   "id": "6838fb69-28fb-4248-9cd0-3a07efc378d0",
   "metadata": {},
   "outputs": [],
   "source": []
  },
  {
   "cell_type": "code",
   "execution_count": null,
   "id": "c599cd26-6924-4fce-a551-13ab47556734",
   "metadata": {},
   "outputs": [],
   "source": []
  },
  {
   "cell_type": "code",
   "execution_count": null,
   "id": "f516688a-5a67-4f65-9c13-b718ed0692fd",
   "metadata": {},
   "outputs": [],
   "source": [
    "def decorate(func):\n",
    "    print(\"I am decorating\")\n",
    "    def inner(*args):\n",
    "        result = func(777,*args)\n",
    "        return result\n",
    "    return inner\n",
    "\n",
    "@decorate\n",
    "def my_func(*args):\n",
    "    print(\"Helloo I am Theo\")\n",
    "    print(*args)\n",
    "    return args"
   ]
  },
  {
   "cell_type": "code",
   "execution_count": null,
   "id": "330a30ae-5582-42d9-a408-b38f293a2090",
   "metadata": {},
   "outputs": [],
   "source": []
  },
  {
   "cell_type": "code",
   "execution_count": null,
   "id": "1c6d51fb-6886-47c8-b8af-ce2e2a1c6491",
   "metadata": {},
   "outputs": [],
   "source": []
  },
  {
   "cell_type": "markdown",
   "id": "05db4ff7-a537-4a5b-9b61-00ba28b0fa83",
   "metadata": {},
   "source": [
    "### Experimenting with decorators"
   ]
  },
  {
   "cell_type": "code",
   "execution_count": 15,
   "id": "98fbb6b1-23e9-4533-8394-9fee976147b8",
   "metadata": {},
   "outputs": [
    {
     "name": "stdout",
     "output_type": "stream",
     "text": [
      "Helloo I am Theo\n",
      "1 2 3\n"
     ]
    },
    {
     "data": {
      "text/plain": [
       "(1, 2, 3)"
      ]
     },
     "execution_count": 15,
     "metadata": {},
     "output_type": "execute_result"
    }
   ],
   "source": [
    "def my_func(*args):\n",
    "    print(\"Helloo I am Theo\")\n",
    "    print(*args)\n",
    "    return args\n",
    "\n",
    "my_func(1,2,3)"
   ]
  },
  {
   "cell_type": "code",
   "execution_count": 16,
   "id": "7e8238bf-5e4f-4745-ad5a-177a2ffc90ef",
   "metadata": {},
   "outputs": [
    {
     "name": "stdout",
     "output_type": "stream",
     "text": [
      "I am decorating\n",
      "Helloo I am Theo\n",
      "777 1 2 3\n"
     ]
    },
    {
     "data": {
      "text/plain": [
       "(777, 1, 2, 3)"
      ]
     },
     "execution_count": 16,
     "metadata": {},
     "output_type": "execute_result"
    }
   ],
   "source": [
    "def decorate(func):\n",
    "    print(\"I am decorating\")\n",
    "    def inner(*args):\n",
    "        result = func(777,*args)\n",
    "        return result\n",
    "    return inner\n",
    "\n",
    "@decorate\n",
    "def my_func(*args):\n",
    "    print(\"Helloo I am Theo\")\n",
    "    print(*args)\n",
    "    return args\n",
    "\n",
    "\n",
    "my_func(1,2,3)"
   ]
  },
  {
   "cell_type": "code",
   "execution_count": 17,
   "id": "b6fe4c63-5a66-447c-9199-e62bbd949cfa",
   "metadata": {},
   "outputs": [
    {
     "data": {
      "text/plain": [
       "'inner'"
      ]
     },
     "execution_count": 17,
     "metadata": {},
     "output_type": "execute_result"
    }
   ],
   "source": [
    "my_func.__name__"
   ]
  },
  {
   "cell_type": "code",
   "execution_count": null,
   "id": "2113d27f-8446-4a7c-b84c-66826040ced5",
   "metadata": {},
   "outputs": [],
   "source": []
  },
  {
   "cell_type": "code",
   "execution_count": null,
   "id": "045883fd-2314-4dc8-be33-fd5c341c952b",
   "metadata": {},
   "outputs": [],
   "source": []
  },
  {
   "cell_type": "code",
   "execution_count": null,
   "id": "c24a97eb-d106-423d-a54b-31c23ca7878b",
   "metadata": {},
   "outputs": [],
   "source": []
  },
  {
   "cell_type": "markdown",
   "id": "88cfc2a0-8005-4ee4-8fe6-1bb8dc87f0a3",
   "metadata": {},
   "source": [
    "## Parametrized decorator"
   ]
  },
  {
   "cell_type": "code",
   "execution_count": null,
   "id": "2bbb8e0b-233a-463f-abe1-91aae62b2101",
   "metadata": {},
   "outputs": [],
   "source": []
  },
  {
   "cell_type": "code",
   "execution_count": null,
   "id": "fa92b3db-80d3-462e-9cab-e269d424ce21",
   "metadata": {},
   "outputs": [],
   "source": []
  },
  {
   "cell_type": "code",
   "execution_count": null,
   "id": "6d64ff92-f29b-4ecf-a493-e346971be837",
   "metadata": {},
   "outputs": [],
   "source": []
  },
  {
   "cell_type": "markdown",
   "id": "cb257377-5a61-4cca-a80d-566f3a6bd6f6",
   "metadata": {},
   "source": [
    "## `1.7.18  Decorator Application (Decorator Class)`"
   ]
  },
  {
   "cell_type": "markdown",
   "id": "7d1af934-dd9c-46cd-bed7-9d7e51659164",
   "metadata": {},
   "source": [
    "## Decorator Class \n",
    "(classes to decorate functions)"
   ]
  },
  {
   "cell_type": "code",
   "execution_count": null,
   "id": "7f16cd75-4d0c-400a-a21a-e1c97d82cef7",
   "metadata": {},
   "outputs": [],
   "source": [
    "The class is the decorator factory\n",
    "__call__ returns the decorator"
   ]
  },
  {
   "cell_type": "code",
   "execution_count": null,
   "id": "c5baff13-a471-44f8-8360-cfd7b0a4e8b9",
   "metadata": {},
   "outputs": [],
   "source": []
  },
  {
   "cell_type": "code",
   "execution_count": null,
   "id": "0f6594aa-284f-42cd-aa9d-5b10db690bc7",
   "metadata": {},
   "outputs": [],
   "source": []
  },
  {
   "cell_type": "code",
   "execution_count": null,
   "id": "cfb6a16b-4976-447a-a24e-de4c47b0001c",
   "metadata": {},
   "outputs": [],
   "source": []
  },
  {
   "cell_type": "markdown",
   "id": "168e80b1-1950-470c-8b49-bf1f886303db",
   "metadata": {},
   "source": [
    "## Decorating Classes"
   ]
  },
  {
   "cell_type": "code",
   "execution_count": null,
   "id": "8fd5c640-394f-4ac3-8509-99165091084e",
   "metadata": {},
   "outputs": [],
   "source": []
  },
  {
   "cell_type": "code",
   "execution_count": null,
   "id": "42470177-2b23-4744-b42b-bc4df70fba81",
   "metadata": {},
   "outputs": [],
   "source": []
  },
  {
   "cell_type": "code",
   "execution_count": null,
   "id": "f2239255-18bc-4337-a5b7-0c966affbe43",
   "metadata": {},
   "outputs": [],
   "source": []
  },
  {
   "cell_type": "code",
   "execution_count": null,
   "id": "96dff70f-0c47-4a9c-b4c2-14e09b7431f9",
   "metadata": {},
   "outputs": [],
   "source": []
  },
  {
   "cell_type": "code",
   "execution_count": null,
   "id": "35cb9e2b-5562-4a02-9920-f27d51a65183",
   "metadata": {},
   "outputs": [],
   "source": []
  },
  {
   "cell_type": "markdown",
   "id": "a8fa792a-ca28-4633-b263-5976c4f398dc",
   "metadata": {},
   "source": [
    "## `1.7.20 . Decorator Application (Dispatching) - Part 2`"
   ]
  },
  {
   "cell_type": "markdown",
   "id": "6288748b-23bc-47fa-89ab-2a64fc2823c1",
   "metadata": {},
   "source": [
    "### Single Dispatch"
   ]
  },
  {
   "cell_type": "code",
   "execution_count": 144,
   "id": "4526a7d5-4ce2-472d-8fcb-335a1df5c740",
   "metadata": {},
   "outputs": [],
   "source": [
    "## Suppose we have defined preprocessing functions for each datatype\n",
    "\n",
    "def html_escape(arg):\n",
    "    pass\n",
    "\n",
    "def html_int(arg):\n",
    "    pass\n",
    "\n",
    "def html_str(arg):\n",
    "    pass\n",
    "\n",
    "def html_list(arg):\n",
    "    pass\n",
    "\n",
    "\n",
    "## And we want to dispatch the call to each of them according to the datatype\n",
    "\n",
    "## Instead of doing this\n",
    "def htmlize(arg):\n",
    "    if isinstance(arg,int):\n",
    "        return html_int(arg)\n",
    "    elif isinstance(arg,str):\n",
    "        return html_str(arg)\n",
    "    elif isinstance(arg,list):\n",
    "        return html_list(arg)\n",
    "    else:\n",
    "        return html_escape(arg)\n",
    "\n",
    "\n",
    "## We can do this\n",
    "def htmlize(arg):\n",
    "    \n",
    "    # problem: This is hardcoded\n",
    "    registry = {\n",
    "        object: html_escape,\n",
    "        int: html_int,\n",
    "        str: html_str,\n",
    "        list: html_list\n",
    "    }\n",
    "\n",
    "    fn = registry.get(type(arg), registry[object] )\n",
    "    return fn(arg)\n",
    "\n",
    "\n",
    "## Now we want to improve this! We want to be able to populate the registry from the outside (using closures and decorators - registry is free varaible)\n",
    "## Now we can only go back in code and add to this dictionary.\n",
    "## Add key and function to the dictionary registry\n",
    "\n",
    "def singledispatch(fn):\n",
    "    \n",
    "    registry = {}\n",
    "\n",
    "    registry[object] = fn\n",
    "\n",
    "    def decorated(arg):\n",
    "        return registry.get( type(arg), registry[object] )(arg)\n",
    "\n",
    "    # This is a decorator factory\n",
    "    def register(type_):\n",
    "        # This is the decorator\n",
    "        def inner(fn):\n",
    "            registry[type_] = fn\n",
    "            # NOTICE that we return fn!!! We do not alter it like in usual decorators (2 inner functions)\n",
    "            return fn\n",
    "        return inner\n",
    "\n",
    "    # get the function associated with a type\n",
    "    def dispatch(type_):\n",
    "        return registry.get(type_, registry[object])\n",
    "\n",
    "    # This is to allow access from the outside!\n",
    "    decorated.register = register\n",
    "\n",
    "    # have access to the registry outside  (ONLY for degubbing)\n",
    "    # decorated.registry = registry\n",
    "    decorated.dispatch = dispatch\n",
    "    \n",
    "    return decorated\n"
   ]
  },
  {
   "cell_type": "code",
   "execution_count": 145,
   "id": "9001d1c6-d1ba-4b03-a027-2d9be908a764",
   "metadata": {},
   "outputs": [],
   "source": [
    "# Usage\n",
    "\n",
    "@singledispatch\n",
    "def htmlize(a):  # It will be the decorated function\n",
    "    return escape(str(a))\n",
    "\n",
    "## Add to the registry\n",
    "@htmlize.register(int)  # it calls the register attrivute of the htmlize. This is the inner function that registers html_int\n",
    "def html_int(a):\n",
    "    return ''\n",
    "\n",
    "# Register both keys tuple and list to the same function html_sequence\n",
    "@htmlize.register(tuple)\n",
    "@htmlize.register(list)\n",
    "def html_sequence(a):\n",
    "    return ''"
   ]
  },
  {
   "cell_type": "code",
   "execution_count": 147,
   "id": "c4e0e364-5bad-43f8-9a2a-48b0e131524d",
   "metadata": {},
   "outputs": [
    {
     "data": {
      "text/plain": [
       "<function __main__.html_int(a)>"
      ]
     },
     "execution_count": 147,
     "metadata": {},
     "output_type": "execute_result"
    }
   ],
   "source": [
    "htmlize.dispatch(int)"
   ]
  },
  {
   "cell_type": "code",
   "execution_count": 146,
   "id": "b71a3ebb-9c59-4b8e-8a54-5dfc0d85e8ef",
   "metadata": {},
   "outputs": [
    {
     "ename": "AttributeError",
     "evalue": "'function' object has no attribute 'registry'",
     "output_type": "error",
     "traceback": [
      "\u001b[1;31m---------------------------------------------------------------------------\u001b[0m",
      "\u001b[1;31mAttributeError\u001b[0m                            Traceback (most recent call last)",
      "Cell \u001b[1;32mIn[146], line 1\u001b[0m\n\u001b[1;32m----> 1\u001b[0m \u001b[43mhtmlize\u001b[49m\u001b[38;5;241;43m.\u001b[39;49m\u001b[43mregistry\u001b[49m\n",
      "\u001b[1;31mAttributeError\u001b[0m: 'function' object has no attribute 'registry'"
     ]
    }
   ],
   "source": [
    "htmlize.registry"
   ]
  },
  {
   "cell_type": "code",
   "execution_count": null,
   "id": "6a0fcf02-a708-46e9-b2c7-64f08a3a39e9",
   "metadata": {},
   "outputs": [],
   "source": []
  },
  {
   "cell_type": "code",
   "execution_count": 149,
   "id": "66b797c9-c3fe-4769-9184-3c30463681cd",
   "metadata": {},
   "outputs": [
    {
     "data": {
      "text/plain": [
       "(True, True)"
      ]
     },
     "execution_count": 149,
     "metadata": {},
     "output_type": "execute_result"
    }
   ],
   "source": [
    "## isinstance\n",
    "\n",
    "class Person:\n",
    "    pass\n",
    "\n",
    "class Student(Person):\n",
    "    pass\n",
    "\n",
    "p = Student()\n",
    "\n",
    "isinstance(p, Person), isinstance(p, Student)"
   ]
  },
  {
   "cell_type": "code",
   "execution_count": 150,
   "id": "0c45a874-2778-4f2d-a2e1-8d0fdb61f093",
   "metadata": {},
   "outputs": [
    {
     "data": {
      "text/plain": [
       "__main__.Student"
      ]
     },
     "execution_count": 150,
     "metadata": {},
     "output_type": "execute_result"
    }
   ],
   "source": [
    "type(p)"
   ]
  },
  {
   "cell_type": "code",
   "execution_count": null,
   "id": "f478358d-6f31-411b-8880-50edf0cb89be",
   "metadata": {},
   "outputs": [],
   "source": []
  },
  {
   "cell_type": "code",
   "execution_count": null,
   "id": "338b54e3-2143-447a-9ce4-1bb9b59258a4",
   "metadata": {},
   "outputs": [],
   "source": []
  },
  {
   "cell_type": "markdown",
   "id": "3bb0b724-221e-4880-abe8-ccc20e1bc6cc",
   "metadata": {},
   "source": [
    "### ABC class"
   ]
  },
  {
   "cell_type": "code",
   "execution_count": 151,
   "id": "4246c525-f86d-4b8e-9ce1-f44a2e040893",
   "metadata": {},
   "outputs": [
    {
     "data": {
      "text/plain": [
       "True"
      ]
     },
     "execution_count": 151,
     "metadata": {},
     "output_type": "execute_result"
    }
   ],
   "source": [
    "from collections.abc import Sequence\n",
    "\n",
    "isinstance([1,2,3], Sequence)"
   ]
  },
  {
   "cell_type": "code",
   "execution_count": 152,
   "id": "2a65ea9b-283b-4c87-bf55-7b3cc5d25264",
   "metadata": {},
   "outputs": [
    {
     "data": {
      "text/plain": [
       "True"
      ]
     },
     "execution_count": 152,
     "metadata": {},
     "output_type": "execute_result"
    }
   ],
   "source": [
    "isinstance((1,2,3), Sequence)"
   ]
  },
  {
   "cell_type": "code",
   "execution_count": null,
   "id": "a8b6891e-37bf-422d-bc1a-1c7f8550cbc1",
   "metadata": {},
   "outputs": [],
   "source": [
    "@htmlize.register(Sequence)\n",
    "def html_sequence(l):\n",
    "    pass"
   ]
  },
  {
   "cell_type": "code",
   "execution_count": 153,
   "id": "bfb6078a-79f3-4e84-81f7-e639fcc83f6b",
   "metadata": {},
   "outputs": [
    {
     "data": {
      "text/plain": [
       "False"
      ]
     },
     "execution_count": 153,
     "metadata": {},
     "output_type": "execute_result"
    }
   ],
   "source": [
    "type([1,2,3]) is Sequence"
   ]
  },
  {
   "cell_type": "code",
   "execution_count": 155,
   "id": "e251165b-80dc-42ad-a2c2-cdc35fb5b3df",
   "metadata": {},
   "outputs": [
    {
     "data": {
      "text/plain": [
       "True"
      ]
     },
     "execution_count": 155,
     "metadata": {},
     "output_type": "execute_result"
    }
   ],
   "source": [
    "isinstance([1,2,3], Sequence) "
   ]
  },
  {
   "cell_type": "code",
   "execution_count": null,
   "id": "a43c6f0a-8626-4a96-8e18-772c54c34d4c",
   "metadata": {},
   "outputs": [],
   "source": []
  },
  {
   "cell_type": "code",
   "execution_count": null,
   "id": "ef9a1cc6-3ab3-46a1-b436-49ededf35ed3",
   "metadata": {},
   "outputs": [],
   "source": []
  },
  {
   "cell_type": "code",
   "execution_count": null,
   "id": "eea79749-7f62-4846-814e-7160ada7cdff",
   "metadata": {},
   "outputs": [],
   "source": []
  },
  {
   "cell_type": "code",
   "execution_count": null,
   "id": "3bf26141-89b3-4d49-9cb5-69511d295cbf",
   "metadata": {},
   "outputs": [],
   "source": []
  },
  {
   "cell_type": "code",
   "execution_count": null,
   "id": "3243f484-3092-40fe-a973-6cc812ddbed0",
   "metadata": {},
   "outputs": [],
   "source": []
  },
  {
   "cell_type": "code",
   "execution_count": null,
   "id": "09c885a0-2131-40ca-9e9b-49e8691b57bd",
   "metadata": {},
   "outputs": [],
   "source": []
  },
  {
   "cell_type": "code",
   "execution_count": null,
   "id": "19f4725d-11c5-4153-9a74-9af619c7b401",
   "metadata": {},
   "outputs": [],
   "source": []
  },
  {
   "cell_type": "code",
   "execution_count": null,
   "id": "2e63d018-b0c5-464a-9c61-1a933f9a513b",
   "metadata": {},
   "outputs": [],
   "source": []
  },
  {
   "cell_type": "code",
   "execution_count": null,
   "id": "9c4c0510-3690-4f0b-85e4-25bc8c62ecd6",
   "metadata": {},
   "outputs": [],
   "source": []
  },
  {
   "cell_type": "code",
   "execution_count": null,
   "id": "1bed5ed7-366c-4767-9380-80f4f497c049",
   "metadata": {},
   "outputs": [],
   "source": []
  },
  {
   "cell_type": "code",
   "execution_count": null,
   "id": "d1413d95-af06-43a0-b5e8-ad2c97417a46",
   "metadata": {},
   "outputs": [],
   "source": []
  },
  {
   "cell_type": "code",
   "execution_count": null,
   "id": "1f7cfdde-67e3-4782-abc2-573d06c91aca",
   "metadata": {},
   "outputs": [],
   "source": []
  },
  {
   "cell_type": "code",
   "execution_count": null,
   "id": "424a5462-7fdc-4cc5-ba3c-9866ca9c8ba6",
   "metadata": {},
   "outputs": [],
   "source": []
  },
  {
   "cell_type": "code",
   "execution_count": null,
   "id": "4313fcd8-cfc0-4b8e-b9bc-dfb3266a6109",
   "metadata": {},
   "outputs": [],
   "source": []
  },
  {
   "cell_type": "code",
   "execution_count": null,
   "id": "6615623f-4d08-451e-989f-eb8dfa6d985a",
   "metadata": {},
   "outputs": [],
   "source": []
  },
  {
   "cell_type": "code",
   "execution_count": null,
   "id": "2345a869-60b9-4f4b-ac4a-d49e2b0973d5",
   "metadata": {},
   "outputs": [],
   "source": []
  },
  {
   "cell_type": "code",
   "execution_count": null,
   "id": "8c43ef93-0228-490f-9288-31d2b4957b84",
   "metadata": {},
   "outputs": [],
   "source": []
  },
  {
   "cell_type": "code",
   "execution_count": null,
   "id": "931867c7-4544-4e05-b9bf-01ab334bdb8f",
   "metadata": {},
   "outputs": [],
   "source": []
  },
  {
   "cell_type": "code",
   "execution_count": null,
   "id": "b094b7c2-96f7-45a1-bd3d-feff07d2edbd",
   "metadata": {},
   "outputs": [],
   "source": []
  },
  {
   "cell_type": "code",
   "execution_count": null,
   "id": "e6a3dd68-de16-406b-bf79-2b078a2bb2bf",
   "metadata": {},
   "outputs": [],
   "source": []
  },
  {
   "cell_type": "code",
   "execution_count": null,
   "id": "1b0ddaf0-3c48-408b-ba09-09a0d6a55a08",
   "metadata": {},
   "outputs": [],
   "source": []
  },
  {
   "cell_type": "code",
   "execution_count": null,
   "id": "cd20c9d2-edcc-4352-aa02-65a7e120659d",
   "metadata": {},
   "outputs": [],
   "source": []
  },
  {
   "cell_type": "code",
   "execution_count": null,
   "id": "89ea9ed2-0a70-4a34-bb77-fbd279ff6cff",
   "metadata": {},
   "outputs": [],
   "source": []
  },
  {
   "cell_type": "code",
   "execution_count": null,
   "id": "69dbb1dc-fba5-444f-9c69-c49117656d3c",
   "metadata": {},
   "outputs": [],
   "source": [
    "vars(self) --> returns all the properties/attributes (self.name, self.age etc) of the object self"
   ]
  },
  {
   "cell_type": "code",
   "execution_count": null,
   "id": "1d2c5c34-a067-4863-a754-40517cb40b14",
   "metadata": {},
   "outputs": [],
   "source": [
    "dir(cls)"
   ]
  },
  {
   "cell_type": "code",
   "execution_count": null,
   "id": "d0e7ccbb-7a7e-4585-a9c0-852d8584ca57",
   "metadata": {},
   "outputs": [],
   "source": [
    "setattr"
   ]
  },
  {
   "cell_type": "code",
   "execution_count": null,
   "id": "67cd81a6-c89b-48f3-8791-cb407ac0995b",
   "metadata": {},
   "outputs": [],
   "source": [
    "isinstance  --> recognises subclasses as well"
   ]
  },
  {
   "cell_type": "code",
   "execution_count": null,
   "id": "7ea6b027-c599-4170-b4f5-6222022bf753",
   "metadata": {},
   "outputs": [],
   "source": [
    "__slots__"
   ]
  },
  {
   "cell_type": "code",
   "execution_count": null,
   "id": "53e013f5-c4ea-428f-8f90-96f394dc5b45",
   "metadata": {},
   "outputs": [],
   "source": [
    "hooks"
   ]
  },
  {
   "cell_type": "code",
   "execution_count": null,
   "id": "84e7d406-c8e1-4c52-b016-b290437646e8",
   "metadata": {},
   "outputs": [],
   "source": [
    "logger"
   ]
  },
  {
   "cell_type": "code",
   "execution_count": null,
   "id": "10ae4aeb-ce7e-4780-b3f1-f794408988fd",
   "metadata": {},
   "outputs": [],
   "source": [
    "__new__"
   ]
  },
  {
   "cell_type": "code",
   "execution_count": null,
   "id": "10b60053-9f64-41f7-a5d7-089f25a0b200",
   "metadata": {},
   "outputs": [],
   "source": []
  },
  {
   "cell_type": "code",
   "execution_count": null,
   "id": "2b521368-d944-4c4a-9753-1ca5e5dedd97",
   "metadata": {},
   "outputs": [],
   "source": []
  },
  {
   "cell_type": "code",
   "execution_count": null,
   "id": "c238c006-4de6-4b70-b116-a2a41242d7b3",
   "metadata": {},
   "outputs": [],
   "source": []
  },
  {
   "cell_type": "code",
   "execution_count": null,
   "id": "d59525f4-41b3-404b-9946-96082182dafa",
   "metadata": {},
   "outputs": [],
   "source": []
  },
  {
   "cell_type": "code",
   "execution_count": null,
   "id": "7b62d0a9-405b-4d92-ab4c-63270fcd7f7f",
   "metadata": {},
   "outputs": [],
   "source": [
    "##"
   ]
  },
  {
   "cell_type": "code",
   "execution_count": null,
   "id": "0b9629d7-b9bd-45aa-831c-e2e60f5e32e3",
   "metadata": {},
   "outputs": [],
   "source": []
  },
  {
   "cell_type": "code",
   "execution_count": null,
   "id": "9c336fcd-d840-4cc0-ae6e-839ddb9752d3",
   "metadata": {},
   "outputs": [],
   "source": []
  },
  {
   "cell_type": "code",
   "execution_count": null,
   "id": "730be2c9-9aee-462a-8645-2f13234f4cfd",
   "metadata": {},
   "outputs": [],
   "source": []
  },
  {
   "cell_type": "code",
   "execution_count": null,
   "id": "a6f3c99a-68b6-4025-bf6b-dc3674f22c16",
   "metadata": {},
   "outputs": [],
   "source": []
  },
  {
   "cell_type": "code",
   "execution_count": null,
   "id": "7f0da960-72ac-4a2c-9a85-2451d700a3c7",
   "metadata": {},
   "outputs": [],
   "source": []
  },
  {
   "cell_type": "code",
   "execution_count": null,
   "id": "42ad991d-57ae-42ac-bb4e-e17de74b9367",
   "metadata": {},
   "outputs": [],
   "source": []
  },
  {
   "cell_type": "code",
   "execution_count": null,
   "id": "c4265603-c978-4163-8a39-ae7cdd07aed1",
   "metadata": {},
   "outputs": [],
   "source": [
    "1.7.14 Memoization"
   ]
  }
 ],
 "metadata": {
  "kernelspec": {
   "display_name": "Python 3.9 (langchain_env)",
   "language": "python",
   "name": "langchain_env"
  },
  "language_info": {
   "codemirror_mode": {
    "name": "ipython",
    "version": 3
   },
   "file_extension": ".py",
   "mimetype": "text/x-python",
   "name": "python",
   "nbconvert_exporter": "python",
   "pygments_lexer": "ipython3",
   "version": "3.9.21"
  }
 },
 "nbformat": 4,
 "nbformat_minor": 5
}
