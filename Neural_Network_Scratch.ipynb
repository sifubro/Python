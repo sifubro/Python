{
 "cells": [
  {
   "cell_type": "code",
   "execution_count": 2,
   "id": "e81fced4",
   "metadata": {},
   "outputs": [],
   "source": [
    "import numpy as np\n",
    "import glob\n",
    "from PIL import Image\n"
   ]
  },
  {
   "cell_type": "markdown",
   "id": "aeb7172c",
   "metadata": {},
   "source": [
    "### Create data generator that yields files efficiently"
   ]
  },
  {
   "cell_type": "code",
   "execution_count": null,
   "id": "a73fa012",
   "metadata": {},
   "outputs": [],
   "source": [
    "class DataGenerator:\n",
    "    def __init__(self, directory, batch_size=16, max_epochs=100, shuffle=True):\n",
    "        self.directory = directory\n",
    "        self.batch_size = batch_size\n",
    "        self.max_epochs = max_epochs\n",
    "        self.shuffle = shuffle\n",
    "        self.current_epoch = 0\n",
    "        #self.file_paths = [os.path.join(self.directory, filename) for filename in os.listdir(self.directory)]\n",
    "        self.file_paths = glob.glob(\"C://Users/SiFuBrO/Desktop/SCRIPTS!!!!!/GitHub/Python/dataset\")\n",
    "        \n",
    "    def get_shape(self):\n",
    "        # we assume that all images in the folder have the same shape\n",
    "        self.shape = Image.open(self.file_paths[0])\n",
    "\n",
    "    def __iter__(self):\n",
    "        return self\n",
    "    \n",
    "    def __len__(self):\n",
    "        return len(self.file_paths)\n",
    "\n",
    "    def __next__(self):\n",
    "        if self.current_epoch >= self.max_epochs:\n",
    "            raise StopIteration\n",
    "\n",
    "        if self.shuffle:\n",
    "            np.random.shuffle(self.file_paths)\n",
    "\n",
    "        for i in range(0, len(self.file_paths), self.batch_size):\n",
    "            batch_file_paths = self.file_paths[i:i + self.batch_size]\n",
    "            batch_images = []\n",
    "\n",
    "            for file_path in batch_file_paths:\n",
    "                img = Image.open(file_path)\n",
    "                img_array = np.array(img)\n",
    "                batch_images.append(img_array)\n",
    "\n",
    "            if not batch_images:\n",
    "                raise StopIteration\n",
    "\n",
    "            return np.array(batch_images)\n",
    "\n",
    "        self.current_epoch += 1\n"
   ]
  },
  {
   "cell_type": "code",
   "execution_count": null,
   "id": "2d56506d",
   "metadata": {},
   "outputs": [],
   "source": []
  },
  {
   "cell_type": "markdown",
   "id": "e861ccbe",
   "metadata": {},
   "source": [
    "### Next things todo:\n",
    "- How can I load files in parallel ("
   ]
  },
  {
   "cell_type": "code",
   "execution_count": null,
   "id": "558b96df",
   "metadata": {},
   "outputs": [],
   "source": []
  },
  {
   "cell_type": "code",
   "execution_count": null,
   "id": "c42402b5",
   "metadata": {},
   "outputs": [],
   "source": []
  },
  {
   "cell_type": "code",
   "execution_count": null,
   "id": "a0b3a65c",
   "metadata": {},
   "outputs": [],
   "source": []
  },
  {
   "cell_type": "code",
   "execution_count": null,
   "id": "07cecdd0",
   "metadata": {},
   "outputs": [],
   "source": []
  },
  {
   "cell_type": "code",
   "execution_count": null,
   "id": "68ff2bf1",
   "metadata": {},
   "outputs": [],
   "source": []
  },
  {
   "cell_type": "code",
   "execution_count": null,
   "id": "d673e796",
   "metadata": {},
   "outputs": [],
   "source": []
  },
  {
   "cell_type": "code",
   "execution_count": null,
   "id": "e0403f1e",
   "metadata": {},
   "outputs": [],
   "source": []
  },
  {
   "cell_type": "code",
   "execution_count": null,
   "id": "842c961d",
   "metadata": {},
   "outputs": [],
   "source": []
  },
  {
   "cell_type": "code",
   "execution_count": null,
   "id": "12981570",
   "metadata": {},
   "outputs": [],
   "source": []
  },
  {
   "cell_type": "code",
   "execution_count": null,
   "id": "12033cbf",
   "metadata": {},
   "outputs": [],
   "source": []
  },
  {
   "cell_type": "code",
   "execution_count": null,
   "id": "0cffc9a8",
   "metadata": {},
   "outputs": [],
   "source": []
  },
  {
   "cell_type": "code",
   "execution_count": null,
   "id": "092a7fd3",
   "metadata": {},
   "outputs": [],
   "source": []
  },
  {
   "cell_type": "code",
   "execution_count": null,
   "id": "ef90d858",
   "metadata": {},
   "outputs": [],
   "source": []
  },
  {
   "cell_type": "code",
   "execution_count": null,
   "id": "f6e63ac5",
   "metadata": {},
   "outputs": [],
   "source": []
  }
 ],
 "metadata": {
  "kernelspec": {
   "display_name": "Python 3 (ipykernel)",
   "language": "python",
   "name": "python3"
  },
  "language_info": {
   "codemirror_mode": {
    "name": "ipython",
    "version": 3
   },
   "file_extension": ".py",
   "mimetype": "text/x-python",
   "name": "python",
   "nbconvert_exporter": "python",
   "pygments_lexer": "ipython3",
   "version": "3.8.8"
  }
 },
 "nbformat": 4,
 "nbformat_minor": 5
}
